{
  "cells": [
    {
      "cell_type": "code",
      "execution_count": 28,
      "metadata": {
        "id": "ZNLpKIkGoRY-"
      },
      "outputs": [],
      "source": []
    },
    {
      "cell_type": "code",
      "execution_count": 29,
      "metadata": {
        "colab": {
          "base_uri": "https://localhost:8080/"
        },
        "id": "OKmV6X_ujKCh",
        "outputId": "5bb47762-d9f2-4f04-b58a-c8f8e80f3990"
      },
      "outputs": [
        {
          "name": "stdout",
          "output_type": "stream",
          "text": [
            "Drive already mounted at /content/drive/; to attempt to forcibly remount, call drive.mount(\"/content/drive/\", force_remount=True).\n"
          ]
        }
      ],
      "source": [
        "#RUN ONLY WHEN YOU ARE RUNNING IT FROM GOOGLE COLLAB \n",
        "from google.colab import drive\n",
        "drive.mount('/content/drive/')"
      ]
    },
    {
      "cell_type": "code",
      "execution_count": 30,
      "metadata": {
        "id": "en8zknPYgW0Y"
      },
      "outputs": [],
      "source": [
        "import tensorflow as tf\n",
        "from tensorflow.keras.layers import GlobalAveragePooling2D,Dense,Dropout, Activation, Flatten\n",
        "from tensorflow.keras.layers import Conv2D, MaxPool2D, ZeroPadding2D\n",
        "from tensorflow.keras.layers import BatchNormalization\n",
        "from tensorflow.keras.models import Model, Sequential\n",
        "from tensorflow import keras\n",
        "from tensorflow.keras.applications import MobileNetV2"
      ]
    },
    {
      "cell_type": "code",
      "execution_count": 31,
      "metadata": {
        "id": "Kb9HGF8YcVxq"
      },
      "outputs": [],
      "source": [
        "img_width,img_height=224,224\n",
        "\n",
        "model=MobileNetV2(weights='imagenet',\n",
        "                include_top=False,\n",
        "                input_shape=(img_height,img_width,3)\n",
        "                )"
      ]
    },
    {
      "cell_type": "code",
      "execution_count": null,
      "metadata": {
        "id": "ZZ7qSZtEdPJL"
      },
      "outputs": [],
      "source": []
    },
    {
      "cell_type": "code",
      "execution_count": 32,
      "metadata": {
        "id": "7EZm5qrgeU2T"
      },
      "outputs": [],
      "source": [
        "for layer in model.layers:\n",
        "    layer.trainable=False"
      ]
    },
    {
      "cell_type": "code",
      "execution_count": 34,
      "metadata": {
        "id": "ySwJOJFseoF1"
      },
      "outputs": [],
      "source": [
        "def add_layer_at_bottom(bottom_model, num_classes):\n",
        "    top_model = bottom_model.output\n",
        "    top_model = GlobalAveragePooling2D()(top_model)\n",
        "    top_model = Dense(1024,activation='relu')(top_model)\n",
        "    top_model = Dense(1024,activation='relu')(top_model)\n",
        "    top_model = Dense(512,activation='relu')(top_model)\n",
        "    top_model = Dense(num_classes,activation='softmax')(top_model)\n",
        "    return top_model"
      ]
    },
    {
      "cell_type": "markdown",
      "metadata": {
        "id": "cln7pZT14phN"
      },
      "source": [
        "## Data Prep"
      ]
    },
    {
      "cell_type": "code",
      "execution_count": 35,
      "metadata": {
        "id": "5vLxGPeZi9_N"
      },
      "outputs": [],
      "source": [
        "from tensorflow.keras.preprocessing.image import ImageDataGenerator"
      ]
    },
    {
      "cell_type": "code",
      "execution_count": null,
      "metadata": {
        "id": "Jj2WbRiXjJMY"
      },
      "outputs": [],
      "source": []
    },
    {
      "cell_type": "code",
      "execution_count": 46,
      "metadata": {
        "colab": {
          "base_uri": "https://localhost:8080/"
        },
        "id": "E9fCMux9k4SR",
        "outputId": "7739139a-8253-4498-e9da-6bb35c5dd4f9"
      },
      "outputs": [
        {
          "name": "stdout",
          "output_type": "stream",
          "text": [
            "[('/content/drive/MyDrive/Segmented Medicinal Leaf Images/Psidium Guajava (Guava)/PG-S-010.jpg', 'Psidium Guajava (Guava)'), ('/content/drive/MyDrive/Segmented Medicinal Leaf Images/Psidium Guajava (Guava)/PG-S-013.jpg', 'Psidium Guajava (Guava)'), ('/content/drive/MyDrive/Segmented Medicinal Leaf Images/Psidium Guajava (Guava)/PG-S-011.jpg', 'Psidium Guajava (Guava)'), ('/content/drive/MyDrive/Segmented Medicinal Leaf Images/Psidium Guajava (Guava)/PG-S-007.jpg', 'Psidium Guajava (Guava)'), ('/content/drive/MyDrive/Segmented Medicinal Leaf Images/Psidium Guajava (Guava)/PG-S-008.jpg', 'Psidium Guajava (Guava)')]\n",
            "First Image Path: /content/drive/MyDrive/Segmented Medicinal Leaf Images/Psidium Guajava (Guava)/PG-S-010.jpg\n",
            "Leaf Name: Psidium Guajava (Guava)\n"
          ]
        }
      ],
      "source": [
        "import os\n",
        "#Change the directory location as per your path\n",
        "train_data_dir = '/content/drive/MyDrive/Segmented Medicinal Leaf Images'\n",
        "val_data_dir = '/content/drive/MyDrive/Test folders'\n",
        "\n",
        "train_data = []\n",
        "\n",
        "\n",
        "for folder_name in os.listdir(train_data_dir):\n",
        "    folder_path = os.path.join(train_data_dir, folder_name)\n",
        "\n",
        "    if os.path.isdir(folder_path):\n",
        "\n",
        "        for file_name in os.listdir(folder_path):\n",
        "            file_path = os.path.join(folder_path, file_name)\n",
        "\n",
        "            train_data.append((file_path, folder_name))\n",
        "\n",
        "\n",
        "print(train_data[:5])\n",
        "\n",
        "\n",
        "first_image_path, first_leaf_name = train_data[0]\n",
        "print(\"First Image Path:\", first_image_path)\n",
        "print(\"Leaf Name:\", first_leaf_name)\n"
      ]
    },
    {
      "cell_type": "code",
      "execution_count": 47,
      "metadata": {
        "id": "e8tlmrapjQ9J"
      },
      "outputs": [],
      "source": [
        "# from tensorflow.keras.layers.preprocessing.image_preprocessing import HORIZONTAL\n",
        "\n",
        "train_datagen=ImageDataGenerator(rescale=1./255,\n",
        "                                 rotation_range=45,\n",
        "                                 width_shift_range=0.3,\n",
        "                                 height_shift_range=0.3,\n",
        "                                 horizontal_flip=True,\n",
        "                                 fill_mode='nearest')\n",
        "\n",
        "val_datagen=ImageDataGenerator(rescale=1./255)"
      ]
    },
    {
      "cell_type": "code",
      "execution_count": 48,
      "metadata": {
        "id": "e7dTr2D2kSFg"
      },
      "outputs": [],
      "source": [
        "batch_size=32"
      ]
    },
    {
      "cell_type": "code",
      "execution_count": 49,
      "metadata": {
        "colab": {
          "base_uri": "https://localhost:8080/"
        },
        "id": "g5wJJYL5o2YX",
        "outputId": "6bf86186-d274-422c-8031-4903cf574610"
      },
      "outputs": [
        {
          "name": "stdout",
          "output_type": "stream",
          "text": [
            "Files in validation data directory:\n",
            "/content/drive/MyDrive/Test folders/Alpinia Galanga (Rasna)/AG-S-004.jpg\n",
            "/content/drive/MyDrive/Test folders/Alpinia Galanga (Rasna)/AG-S-005.jpg\n",
            "/content/drive/MyDrive/Test folders/Alpinia Galanga (Rasna)/AG-S-003.jpg\n",
            "/content/drive/MyDrive/Test folders/Alpinia Galanga (Rasna)/AG-S-002.jpg\n",
            "/content/drive/MyDrive/Test folders/Alpinia Galanga (Rasna)/AG-S-001.jpg\n",
            "/content/drive/MyDrive/Test folders/Amaranthus Viridis (Arive-Dantu)/AV-S-122.jpg\n",
            "/content/drive/MyDrive/Test folders/Amaranthus Viridis (Arive-Dantu)/AV-S-123.jpg\n",
            "/content/drive/MyDrive/Test folders/Amaranthus Viridis (Arive-Dantu)/AV-S-121.jpg\n",
            "/content/drive/MyDrive/Test folders/Amaranthus Viridis (Arive-Dantu)/AV-S-120.jpg\n",
            "/content/drive/MyDrive/Test folders/Amaranthus Viridis (Arive-Dantu)/AV-S-119.jpg\n",
            "/content/drive/MyDrive/Test folders/Amaranthus Viridis (Arive-Dantu)/AV-S-004.jpg\n",
            "/content/drive/MyDrive/Test folders/Amaranthus Viridis (Arive-Dantu)/AV-S-001.jpg\n",
            "/content/drive/MyDrive/Test folders/Amaranthus Viridis (Arive-Dantu)/AV-S-005.jpg\n",
            "/content/drive/MyDrive/Test folders/Amaranthus Viridis (Arive-Dantu)/AV-S-002.jpg\n",
            "/content/drive/MyDrive/Test folders/Amaranthus Viridis (Arive-Dantu)/AV-S-003.jpg\n",
            "/content/drive/MyDrive/Test folders/Artocarpus Heterophyllus (Jackfruit)/AH-S-001.jpg\n",
            "/content/drive/MyDrive/Test folders/Artocarpus Heterophyllus (Jackfruit)/AH-S-003.jpg\n",
            "/content/drive/MyDrive/Test folders/Artocarpus Heterophyllus (Jackfruit)/AH-S-004.jpg\n",
            "/content/drive/MyDrive/Test folders/Artocarpus Heterophyllus (Jackfruit)/AH-S-005.jpg\n",
            "/content/drive/MyDrive/Test folders/Artocarpus Heterophyllus (Jackfruit)/AH-S-002.jpg\n",
            "/content/drive/MyDrive/Test folders/Azadirachta Indica (Neem)/AI-S-008.jpg\n",
            "/content/drive/MyDrive/Test folders/Azadirachta Indica (Neem)/AI-S-007.jpg\n",
            "/content/drive/MyDrive/Test folders/Azadirachta Indica (Neem)/AI-S-006.jpg\n",
            "/content/drive/MyDrive/Test folders/Azadirachta Indica (Neem)/AI-S-005.jpg\n",
            "/content/drive/MyDrive/Test folders/Azadirachta Indica (Neem)/AI-S-004.jpg\n",
            "/content/drive/MyDrive/Test folders/Basella Alba (Basale)/BA-S-003.jpg\n",
            "/content/drive/MyDrive/Test folders/Basella Alba (Basale)/BA-S-005.jpg\n",
            "/content/drive/MyDrive/Test folders/Basella Alba (Basale)/BA-S-004.jpg\n",
            "/content/drive/MyDrive/Test folders/Basella Alba (Basale)/BA-S-002.jpg\n",
            "/content/drive/MyDrive/Test folders/Basella Alba (Basale)/BA-S-001.jpg\n",
            "/content/drive/MyDrive/Test folders/Brassica Juncea (Indian Mustard)/BJ-S-001.jpg\n",
            "/content/drive/MyDrive/Test folders/Brassica Juncea (Indian Mustard)/BJ-S-005.jpg\n",
            "/content/drive/MyDrive/Test folders/Brassica Juncea (Indian Mustard)/BJ-S-004.jpg\n",
            "/content/drive/MyDrive/Test folders/Brassica Juncea (Indian Mustard)/BJ-S-002.jpg\n",
            "/content/drive/MyDrive/Test folders/Brassica Juncea (Indian Mustard)/BJ-S-003.jpg\n",
            "/content/drive/MyDrive/Test folders/Carissa Carandas (Karanda)/CC-S-001.jpg\n",
            "/content/drive/MyDrive/Test folders/Carissa Carandas (Karanda)/CC-S-005.jpg\n",
            "/content/drive/MyDrive/Test folders/Carissa Carandas (Karanda)/CC-S-004.jpg\n",
            "/content/drive/MyDrive/Test folders/Carissa Carandas (Karanda)/CC-S-002.jpg\n",
            "/content/drive/MyDrive/Test folders/Carissa Carandas (Karanda)/CC-S-003.jpg\n",
            "/content/drive/MyDrive/Test folders/Citrus Limon (Lemon)/CL-S-001.jpg\n",
            "/content/drive/MyDrive/Test folders/Citrus Limon (Lemon)/CL-S-002.jpg\n",
            "/content/drive/MyDrive/Test folders/Citrus Limon (Lemon)/CL-S-004.jpg\n",
            "/content/drive/MyDrive/Test folders/Citrus Limon (Lemon)/CL-S-005.jpg\n",
            "/content/drive/MyDrive/Test folders/Citrus Limon (Lemon)/CL-S-003.jpg\n",
            "/content/drive/MyDrive/Test folders/Ficus Auriculata (Roxburgh fig)/FA-S-004.jpg\n",
            "/content/drive/MyDrive/Test folders/Ficus Auriculata (Roxburgh fig)/FA-S-005.jpg\n",
            "/content/drive/MyDrive/Test folders/Ficus Auriculata (Roxburgh fig)/FA-S-002.jpg\n",
            "/content/drive/MyDrive/Test folders/Ficus Auriculata (Roxburgh fig)/FA-S-003.jpg\n",
            "/content/drive/MyDrive/Test folders/Ficus Auriculata (Roxburgh fig)/FA-S-001.jpg\n",
            "/content/drive/MyDrive/Test folders/Ficus Religiosa (Peepal Tree)/FR-S-005.jpg\n",
            "/content/drive/MyDrive/Test folders/Ficus Religiosa (Peepal Tree)/FR-S-004.jpg\n",
            "/content/drive/MyDrive/Test folders/Ficus Religiosa (Peepal Tree)/FR-S-001.jpg\n",
            "/content/drive/MyDrive/Test folders/Ficus Religiosa (Peepal Tree)/FR-S-003.jpg\n",
            "/content/drive/MyDrive/Test folders/Ficus Religiosa (Peepal Tree)/FR-S-002.jpg\n",
            "/content/drive/MyDrive/Test folders/Hibiscus Rosa-sinensis/HR-S-002.jpg\n",
            "/content/drive/MyDrive/Test folders/Hibiscus Rosa-sinensis/HR-S-001.jpg\n",
            "/content/drive/MyDrive/Test folders/Hibiscus Rosa-sinensis/HR-S-005.jpg\n",
            "/content/drive/MyDrive/Test folders/Hibiscus Rosa-sinensis/HR-S-003.jpg\n",
            "/content/drive/MyDrive/Test folders/Hibiscus Rosa-sinensis/HR-S-004.jpg\n",
            "/content/drive/MyDrive/Test folders/Jasminum (Jasmine)/J-S-002.jpg\n",
            "/content/drive/MyDrive/Test folders/Jasminum (Jasmine)/J-S-004.jpg\n",
            "/content/drive/MyDrive/Test folders/Jasminum (Jasmine)/J-S-003.jpg\n",
            "/content/drive/MyDrive/Test folders/Jasminum (Jasmine)/J-S-001.jpg\n",
            "/content/drive/MyDrive/Test folders/Jasminum (Jasmine)/J-S-005.jpg\n",
            "/content/drive/MyDrive/Test folders/Mangifera Indica (Mango)/MI-S-005.jpg\n",
            "/content/drive/MyDrive/Test folders/Mangifera Indica (Mango)/MI-S-004.jpg\n",
            "/content/drive/MyDrive/Test folders/Mangifera Indica (Mango)/MI-S-003.jpg\n",
            "/content/drive/MyDrive/Test folders/Mangifera Indica (Mango)/MI-S-002.jpg\n",
            "/content/drive/MyDrive/Test folders/Mangifera Indica (Mango)/MI-S-001.jpg\n",
            "/content/drive/MyDrive/Test folders/Mentha (Mint)/M-S-004.jpg\n",
            "/content/drive/MyDrive/Test folders/Mentha (Mint)/M-S-005.jpg\n",
            "/content/drive/MyDrive/Test folders/Mentha (Mint)/M-S-003.jpg\n",
            "/content/drive/MyDrive/Test folders/Mentha (Mint)/M-S-001.jpg\n",
            "/content/drive/MyDrive/Test folders/Mentha (Mint)/M-S-002.jpg\n",
            "/content/drive/MyDrive/Test folders/Moringa Oleifera (Drumstick)/MO-S-005.jpg\n",
            "/content/drive/MyDrive/Test folders/Moringa Oleifera (Drumstick)/MO-S-004.jpg\n",
            "/content/drive/MyDrive/Test folders/Moringa Oleifera (Drumstick)/MO-S-003.jpg\n",
            "/content/drive/MyDrive/Test folders/Moringa Oleifera (Drumstick)/MO-S-002.jpg\n",
            "/content/drive/MyDrive/Test folders/Moringa Oleifera (Drumstick)/MO-S-001.jpg\n",
            "/content/drive/MyDrive/Test folders/Muntingia Calabura (Jamaica Cherry-Gasagase)/MC-S-002.jpg\n",
            "/content/drive/MyDrive/Test folders/Muntingia Calabura (Jamaica Cherry-Gasagase)/MC-S-004.jpg\n",
            "/content/drive/MyDrive/Test folders/Muntingia Calabura (Jamaica Cherry-Gasagase)/MC-S-005.jpg\n",
            "/content/drive/MyDrive/Test folders/Muntingia Calabura (Jamaica Cherry-Gasagase)/MC-S-003.jpg\n",
            "/content/drive/MyDrive/Test folders/Muntingia Calabura (Jamaica Cherry-Gasagase)/MC-S-001.jpg\n",
            "/content/drive/MyDrive/Test folders/Murraya Koenigii (Curry)/MK-S-001.jpg\n",
            "/content/drive/MyDrive/Test folders/Murraya Koenigii (Curry)/MK-S-005.jpg\n",
            "/content/drive/MyDrive/Test folders/Murraya Koenigii (Curry)/MK-S-004.jpg\n",
            "/content/drive/MyDrive/Test folders/Murraya Koenigii (Curry)/MK-S-002.jpg\n",
            "/content/drive/MyDrive/Test folders/Murraya Koenigii (Curry)/MK-S-003.jpg\n",
            "/content/drive/MyDrive/Test folders/Nerium Oleander (Oleander)/NO-S-004.jpg\n",
            "/content/drive/MyDrive/Test folders/Nerium Oleander (Oleander)/NO-S-005.jpg\n",
            "/content/drive/MyDrive/Test folders/Nerium Oleander (Oleander)/NO-S-002.jpg\n",
            "/content/drive/MyDrive/Test folders/Nerium Oleander (Oleander)/NO-S-003.jpg\n",
            "/content/drive/MyDrive/Test folders/Nerium Oleander (Oleander)/NO-S-001.jpg\n",
            "/content/drive/MyDrive/Test folders/Nyctanthes Arbor-tristis (Parijata)/NA-S-002.jpg\n",
            "/content/drive/MyDrive/Test folders/Nyctanthes Arbor-tristis (Parijata)/NA-S-003.jpg\n",
            "/content/drive/MyDrive/Test folders/Nyctanthes Arbor-tristis (Parijata)/NA-S-004.jpg\n",
            "/content/drive/MyDrive/Test folders/Nyctanthes Arbor-tristis (Parijata)/NA-S-005.jpg\n",
            "/content/drive/MyDrive/Test folders/Nyctanthes Arbor-tristis (Parijata)/NA-S-001.jpg\n",
            "/content/drive/MyDrive/Test folders/Ocimum Tenuiflorum (Tulsi)/OT-S-003.jpg\n",
            "/content/drive/MyDrive/Test folders/Ocimum Tenuiflorum (Tulsi)/OT-S-002.jpg\n",
            "/content/drive/MyDrive/Test folders/Ocimum Tenuiflorum (Tulsi)/OT-S-001.jpg\n",
            "/content/drive/MyDrive/Test folders/Ocimum Tenuiflorum (Tulsi)/OT-S-004.jpg\n",
            "/content/drive/MyDrive/Test folders/Ocimum Tenuiflorum (Tulsi)/OT-S-005.jpg\n",
            "/content/drive/MyDrive/Test folders/Piper Betle (Betel)/PB-S-005.jpg\n",
            "/content/drive/MyDrive/Test folders/Piper Betle (Betel)/PB-S-004.jpg\n",
            "/content/drive/MyDrive/Test folders/Piper Betle (Betel)/PB-S-003.jpg\n",
            "/content/drive/MyDrive/Test folders/Piper Betle (Betel)/PB-S-002.jpg\n",
            "/content/drive/MyDrive/Test folders/Piper Betle (Betel)/PB-S-001.jpg\n",
            "/content/drive/MyDrive/Test folders/Plectranthus Amboinicus (Mexican Mint)/PA-S-004.jpg\n",
            "/content/drive/MyDrive/Test folders/Plectranthus Amboinicus (Mexican Mint)/PA-S-005.jpg\n",
            "/content/drive/MyDrive/Test folders/Plectranthus Amboinicus (Mexican Mint)/PA-S-003.jpg\n",
            "/content/drive/MyDrive/Test folders/Plectranthus Amboinicus (Mexican Mint)/PA-S-001.jpg\n",
            "/content/drive/MyDrive/Test folders/Plectranthus Amboinicus (Mexican Mint)/PA-S-002.jpg\n",
            "/content/drive/MyDrive/Test folders/Pongamia Pinnata (Indian Beech)/PP-S-001.jpg\n",
            "/content/drive/MyDrive/Test folders/Pongamia Pinnata (Indian Beech)/PP-S-003.jpg\n",
            "/content/drive/MyDrive/Test folders/Pongamia Pinnata (Indian Beech)/PP-S-002.jpg\n",
            "/content/drive/MyDrive/Test folders/Pongamia Pinnata (Indian Beech)/PP-S-005.jpg\n",
            "/content/drive/MyDrive/Test folders/Pongamia Pinnata (Indian Beech)/PP-S-004.jpg\n",
            "/content/drive/MyDrive/Test folders/Psidium Guajava (Guava)/PG-S-002.jpg\n",
            "/content/drive/MyDrive/Test folders/Psidium Guajava (Guava)/PG-S-003.jpg\n",
            "/content/drive/MyDrive/Test folders/Psidium Guajava (Guava)/PG-S-001.jpg\n",
            "/content/drive/MyDrive/Test folders/Psidium Guajava (Guava)/PG-S-004.jpg\n",
            "/content/drive/MyDrive/Test folders/Psidium Guajava (Guava)/PG-S-005.jpg\n",
            "/content/drive/MyDrive/Test folders/Punica Granatum (Pomegranate)/PG-S-005.jpg\n",
            "/content/drive/MyDrive/Test folders/Punica Granatum (Pomegranate)/PG-S-004.jpg\n",
            "/content/drive/MyDrive/Test folders/Punica Granatum (Pomegranate)/PG-S-003.jpg\n",
            "/content/drive/MyDrive/Test folders/Punica Granatum (Pomegranate)/PG-S-002.jpg\n",
            "/content/drive/MyDrive/Test folders/Punica Granatum (Pomegranate)/PG-S-001.jpg\n",
            "/content/drive/MyDrive/Test folders/Santalum Album (Sandalwood)/SA-S-004.jpg\n",
            "/content/drive/MyDrive/Test folders/Santalum Album (Sandalwood)/SA-S-003.jpg\n",
            "/content/drive/MyDrive/Test folders/Santalum Album (Sandalwood)/SA-S-005.jpg\n",
            "/content/drive/MyDrive/Test folders/Santalum Album (Sandalwood)/SA-S-001.jpg\n",
            "/content/drive/MyDrive/Test folders/Santalum Album (Sandalwood)/SA-S-002.jpg\n",
            "/content/drive/MyDrive/Test folders/Syzygium Cumini (Jamun)/SC-S-002.jpg\n",
            "/content/drive/MyDrive/Test folders/Syzygium Cumini (Jamun)/SC-S-001.jpg\n",
            "/content/drive/MyDrive/Test folders/Syzygium Cumini (Jamun)/SC-S-004.jpg\n",
            "/content/drive/MyDrive/Test folders/Syzygium Cumini (Jamun)/SC-S-005.jpg\n",
            "/content/drive/MyDrive/Test folders/Syzygium Cumini (Jamun)/SC-S-003.jpg\n",
            "/content/drive/MyDrive/Test folders/Syzygium Jambos (Rose Apple)/SJ-S-038.jpg\n",
            "/content/drive/MyDrive/Test folders/Syzygium Jambos (Rose Apple)/SJ-S-033.jpg\n",
            "/content/drive/MyDrive/Test folders/Syzygium Jambos (Rose Apple)/SJ-S-037.jpg\n",
            "/content/drive/MyDrive/Test folders/Syzygium Jambos (Rose Apple)/SJ-S-035.jpg\n",
            "/content/drive/MyDrive/Test folders/Syzygium Jambos (Rose Apple)/SJ-S-034.jpg\n",
            "/content/drive/MyDrive/Test folders/Syzygium Jambos (Rose Apple)/SJ-S-029.jpg\n",
            "/content/drive/MyDrive/Test folders/Syzygium Jambos (Rose Apple)/SJ-S-030.jpg\n",
            "/content/drive/MyDrive/Test folders/Syzygium Jambos (Rose Apple)/SJ-S-032.jpg\n",
            "/content/drive/MyDrive/Test folders/Syzygium Jambos (Rose Apple)/SJ-S-042.jpg\n",
            "/content/drive/MyDrive/Test folders/Syzygium Jambos (Rose Apple)/SJ-S-031.jpg\n",
            "/content/drive/MyDrive/Test folders/Syzygium Jambos (Rose Apple)/SJ-S-027.jpg\n",
            "/content/drive/MyDrive/Test folders/Syzygium Jambos (Rose Apple)/SJ-S-028.jpg\n",
            "/content/drive/MyDrive/Test folders/Syzygium Jambos (Rose Apple)/SJ-S-036.jpg\n",
            "/content/drive/MyDrive/Test folders/Syzygium Jambos (Rose Apple)/SJ-S-010.jpg\n",
            "/content/drive/MyDrive/Test folders/Syzygium Jambos (Rose Apple)/SJ-S-011.jpg\n",
            "/content/drive/MyDrive/Test folders/Syzygium Jambos (Rose Apple)/SJ-S-013.jpg\n",
            "/content/drive/MyDrive/Test folders/Syzygium Jambos (Rose Apple)/SJ-S-012.jpg\n",
            "/content/drive/MyDrive/Test folders/Syzygium Jambos (Rose Apple)/SJ-S-022.jpg\n",
            "/content/drive/MyDrive/Test folders/Syzygium Jambos (Rose Apple)/SJ-S-021.jpg\n",
            "/content/drive/MyDrive/Test folders/Syzygium Jambos (Rose Apple)/SJ-S-025.jpg\n",
            "/content/drive/MyDrive/Test folders/Syzygium Jambos (Rose Apple)/SJ-S-024.jpg\n",
            "/content/drive/MyDrive/Test folders/Syzygium Jambos (Rose Apple)/SJ-S-023.jpg\n",
            "/content/drive/MyDrive/Test folders/Syzygium Jambos (Rose Apple)/SJ-S-020.jpg\n",
            "/content/drive/MyDrive/Test folders/Syzygium Jambos (Rose Apple)/SJ-S-026.jpg\n",
            "/content/drive/MyDrive/Test folders/Syzygium Jambos (Rose Apple)/SJ-S-018.jpg\n",
            "/content/drive/MyDrive/Test folders/Syzygium Jambos (Rose Apple)/SJ-S-002.jpg\n",
            "/content/drive/MyDrive/Test folders/Syzygium Jambos (Rose Apple)/SJ-S-005.jpg\n",
            "/content/drive/MyDrive/Test folders/Syzygium Jambos (Rose Apple)/SJ-S-003.jpg\n",
            "/content/drive/MyDrive/Test folders/Syzygium Jambos (Rose Apple)/SJ-S-001.jpg\n",
            "/content/drive/MyDrive/Test folders/Syzygium Jambos (Rose Apple)/SJ-S-004.jpg\n",
            "/content/drive/MyDrive/Test folders/Syzygium Jambos (Rose Apple)/SJ-S-017.jpg\n",
            "/content/drive/MyDrive/Test folders/Syzygium Jambos (Rose Apple)/SJ-S-014.jpg\n",
            "/content/drive/MyDrive/Test folders/Syzygium Jambos (Rose Apple)/SJ-S-016.jpg\n",
            "/content/drive/MyDrive/Test folders/Syzygium Jambos (Rose Apple)/SJ-S-015.jpg\n",
            "/content/drive/MyDrive/Test folders/Syzygium Jambos (Rose Apple)/SJ-S-006.jpg\n",
            "/content/drive/MyDrive/Test folders/Syzygium Jambos (Rose Apple)/SJ-S-007.jpg\n",
            "/content/drive/MyDrive/Test folders/Syzygium Jambos (Rose Apple)/SJ-S-019.jpg\n",
            "/content/drive/MyDrive/Test folders/Syzygium Jambos (Rose Apple)/SJ-S-009.jpg\n",
            "/content/drive/MyDrive/Test folders/Syzygium Jambos (Rose Apple)/SJ-S-008.jpg\n",
            "/content/drive/MyDrive/Test folders/Syzygium Jambos (Rose Apple)/SJ-S-056.jpg\n",
            "/content/drive/MyDrive/Test folders/Syzygium Jambos (Rose Apple)/SJ-S-052.jpg\n",
            "/content/drive/MyDrive/Test folders/Syzygium Jambos (Rose Apple)/SJ-S-049.jpg\n",
            "/content/drive/MyDrive/Test folders/Syzygium Jambos (Rose Apple)/SJ-S-050.jpg\n",
            "/content/drive/MyDrive/Test folders/Syzygium Jambos (Rose Apple)/SJ-S-054.jpg\n",
            "/content/drive/MyDrive/Test folders/Syzygium Jambos (Rose Apple)/SJ-S-051.jpg\n",
            "/content/drive/MyDrive/Test folders/Syzygium Jambos (Rose Apple)/SJ-S-055.jpg\n",
            "/content/drive/MyDrive/Test folders/Syzygium Jambos (Rose Apple)/SJ-S-053.jpg\n",
            "/content/drive/MyDrive/Test folders/Syzygium Jambos (Rose Apple)/SJ-S-043.jpg\n",
            "/content/drive/MyDrive/Test folders/Syzygium Jambos (Rose Apple)/SJ-S-048.jpg\n",
            "/content/drive/MyDrive/Test folders/Syzygium Jambos (Rose Apple)/SJ-S-041.jpg\n",
            "/content/drive/MyDrive/Test folders/Syzygium Jambos (Rose Apple)/SJ-S-039.jpg\n",
            "/content/drive/MyDrive/Test folders/Syzygium Jambos (Rose Apple)/SJ-S-047.jpg\n",
            "/content/drive/MyDrive/Test folders/Syzygium Jambos (Rose Apple)/SJ-S-040.jpg\n",
            "/content/drive/MyDrive/Test folders/Syzygium Jambos (Rose Apple)/SJ-S-045.jpg\n",
            "/content/drive/MyDrive/Test folders/Syzygium Jambos (Rose Apple)/SJ-S-046.jpg\n",
            "/content/drive/MyDrive/Test folders/Syzygium Jambos (Rose Apple)/SJ-S-044.jpg\n",
            "/content/drive/MyDrive/Test folders/Tabernaemontana Divaricata (Crape Jasmine)/TD-S-004.jpg\n",
            "/content/drive/MyDrive/Test folders/Tabernaemontana Divaricata (Crape Jasmine)/TD-S-002.jpg\n",
            "/content/drive/MyDrive/Test folders/Tabernaemontana Divaricata (Crape Jasmine)/TD-S-001.jpg\n",
            "/content/drive/MyDrive/Test folders/Tabernaemontana Divaricata (Crape Jasmine)/TD-S-003.jpg\n",
            "/content/drive/MyDrive/Test folders/Tabernaemontana Divaricata (Crape Jasmine)/TD-S-054.jpg\n",
            "/content/drive/MyDrive/Test folders/Tabernaemontana Divaricata (Crape Jasmine)/TD-S-053.jpg\n",
            "/content/drive/MyDrive/Test folders/Tabernaemontana Divaricata (Crape Jasmine)/TD-S-052.jpg\n",
            "/content/drive/MyDrive/Test folders/Tabernaemontana Divaricata (Crape Jasmine)/TD-S-050.jpg\n",
            "/content/drive/MyDrive/Test folders/Tabernaemontana Divaricata (Crape Jasmine)/TD-S-051.jpg\n",
            "/content/drive/MyDrive/Test folders/Tabernaemontana Divaricata (Crape Jasmine)/TD-S-048.jpg\n",
            "/content/drive/MyDrive/Test folders/Tabernaemontana Divaricata (Crape Jasmine)/TD-S-047.jpg\n",
            "/content/drive/MyDrive/Test folders/Tabernaemontana Divaricata (Crape Jasmine)/TD-S-046.jpg\n",
            "/content/drive/MyDrive/Test folders/Tabernaemontana Divaricata (Crape Jasmine)/TD-S-049.jpg\n",
            "/content/drive/MyDrive/Test folders/Tabernaemontana Divaricata (Crape Jasmine)/TD-S-045.jpg\n",
            "/content/drive/MyDrive/Test folders/Tabernaemontana Divaricata (Crape Jasmine)/TD-S-044.jpg\n",
            "/content/drive/MyDrive/Test folders/Tabernaemontana Divaricata (Crape Jasmine)/TD-S-043.jpg\n",
            "/content/drive/MyDrive/Test folders/Tabernaemontana Divaricata (Crape Jasmine)/TD-S-042.jpg\n",
            "/content/drive/MyDrive/Test folders/Tabernaemontana Divaricata (Crape Jasmine)/TD-S-041.jpg\n",
            "/content/drive/MyDrive/Test folders/Tabernaemontana Divaricata (Crape Jasmine)/TD-S-040.jpg\n",
            "/content/drive/MyDrive/Test folders/Tabernaemontana Divaricata (Crape Jasmine)/TD-S-039.jpg\n",
            "/content/drive/MyDrive/Test folders/Tabernaemontana Divaricata (Crape Jasmine)/TD-S-037.jpg\n",
            "/content/drive/MyDrive/Test folders/Tabernaemontana Divaricata (Crape Jasmine)/TD-S-036.jpg\n",
            "/content/drive/MyDrive/Test folders/Tabernaemontana Divaricata (Crape Jasmine)/TD-S-038.jpg\n",
            "/content/drive/MyDrive/Test folders/Tabernaemontana Divaricata (Crape Jasmine)/TD-S-035.jpg\n",
            "/content/drive/MyDrive/Test folders/Tabernaemontana Divaricata (Crape Jasmine)/TD-S-034.jpg\n",
            "/content/drive/MyDrive/Test folders/Tabernaemontana Divaricata (Crape Jasmine)/TD-S-033.jpg\n",
            "/content/drive/MyDrive/Test folders/Tabernaemontana Divaricata (Crape Jasmine)/TD-S-032.jpg\n",
            "/content/drive/MyDrive/Test folders/Tabernaemontana Divaricata (Crape Jasmine)/TD-S-025.jpg\n",
            "/content/drive/MyDrive/Test folders/Tabernaemontana Divaricata (Crape Jasmine)/TD-S-031.jpg\n",
            "/content/drive/MyDrive/Test folders/Tabernaemontana Divaricata (Crape Jasmine)/TD-S-030.jpg\n",
            "/content/drive/MyDrive/Test folders/Tabernaemontana Divaricata (Crape Jasmine)/TD-S-029.jpg\n",
            "/content/drive/MyDrive/Test folders/Tabernaemontana Divaricata (Crape Jasmine)/TD-S-026.jpg\n",
            "/content/drive/MyDrive/Test folders/Tabernaemontana Divaricata (Crape Jasmine)/TD-S-027.jpg\n",
            "/content/drive/MyDrive/Test folders/Tabernaemontana Divaricata (Crape Jasmine)/TD-S-028.jpg\n",
            "/content/drive/MyDrive/Test folders/Tabernaemontana Divaricata (Crape Jasmine)/TD-S-007.jpg\n",
            "/content/drive/MyDrive/Test folders/Tabernaemontana Divaricata (Crape Jasmine)/TD-S-008.jpg\n",
            "/content/drive/MyDrive/Test folders/Tabernaemontana Divaricata (Crape Jasmine)/TD-S-013.jpg\n",
            "/content/drive/MyDrive/Test folders/Tabernaemontana Divaricata (Crape Jasmine)/TD-S-010.jpg\n",
            "/content/drive/MyDrive/Test folders/Tabernaemontana Divaricata (Crape Jasmine)/TD-S-014.jpg\n",
            "/content/drive/MyDrive/Test folders/Tabernaemontana Divaricata (Crape Jasmine)/TD-S-009.jpg\n",
            "/content/drive/MyDrive/Test folders/Tabernaemontana Divaricata (Crape Jasmine)/TD-S-011.jpg\n",
            "/content/drive/MyDrive/Test folders/Tabernaemontana Divaricata (Crape Jasmine)/TD-S-021.jpg\n",
            "/content/drive/MyDrive/Test folders/Tabernaemontana Divaricata (Crape Jasmine)/TD-S-019.jpg\n",
            "/content/drive/MyDrive/Test folders/Tabernaemontana Divaricata (Crape Jasmine)/TD-S-020.jpg\n",
            "/content/drive/MyDrive/Test folders/Tabernaemontana Divaricata (Crape Jasmine)/TD-S-017.jpg\n",
            "/content/drive/MyDrive/Test folders/Tabernaemontana Divaricata (Crape Jasmine)/TD-S-018.jpg\n",
            "/content/drive/MyDrive/Test folders/Tabernaemontana Divaricata (Crape Jasmine)/TD-S-016.jpg\n",
            "/content/drive/MyDrive/Test folders/Tabernaemontana Divaricata (Crape Jasmine)/TD-S-023.jpg\n",
            "/content/drive/MyDrive/Test folders/Tabernaemontana Divaricata (Crape Jasmine)/TD-S-022.jpg\n",
            "/content/drive/MyDrive/Test folders/Tabernaemontana Divaricata (Crape Jasmine)/TD-S-006.jpg\n",
            "/content/drive/MyDrive/Test folders/Tabernaemontana Divaricata (Crape Jasmine)/TD-S-024.jpg\n",
            "/content/drive/MyDrive/Test folders/Tabernaemontana Divaricata (Crape Jasmine)/TD-S-005.jpg\n",
            "/content/drive/MyDrive/Test folders/Tabernaemontana Divaricata (Crape Jasmine)/TD-S-012.jpg\n",
            "/content/drive/MyDrive/Test folders/Tabernaemontana Divaricata (Crape Jasmine)/TD-S-015.jpg\n",
            "/content/drive/MyDrive/Test folders/Tabernaemontana Divaricata (Crape Jasmine)/TD-S-056.jpg\n",
            "/content/drive/MyDrive/Test folders/Tabernaemontana Divaricata (Crape Jasmine)/TD-S-055.jpg\n",
            "/content/drive/MyDrive/Test folders/Trigonella Foenum-graecum (Fenugreek)/TF-S-011.jpg\n",
            "/content/drive/MyDrive/Test folders/Trigonella Foenum-graecum (Fenugreek)/TF-S-010.jpg\n",
            "/content/drive/MyDrive/Test folders/Trigonella Foenum-graecum (Fenugreek)/TF-S-005.jpg\n",
            "/content/drive/MyDrive/Test folders/Trigonella Foenum-graecum (Fenugreek)/TF-S-009.jpg\n",
            "/content/drive/MyDrive/Test folders/Trigonella Foenum-graecum (Fenugreek)/TF-S-006.jpg\n",
            "/content/drive/MyDrive/Test folders/Trigonella Foenum-graecum (Fenugreek)/TF-S-008.jpg\n",
            "/content/drive/MyDrive/Test folders/Trigonella Foenum-graecum (Fenugreek)/TF-S-002.jpg\n",
            "/content/drive/MyDrive/Test folders/Trigonella Foenum-graecum (Fenugreek)/TF-S-004.jpg\n",
            "/content/drive/MyDrive/Test folders/Trigonella Foenum-graecum (Fenugreek)/TF-S-003.jpg\n",
            "/content/drive/MyDrive/Test folders/Trigonella Foenum-graecum (Fenugreek)/TF-S-007.jpg\n",
            "/content/drive/MyDrive/Test folders/Trigonella Foenum-graecum (Fenugreek)/TF-S-001.jpg\n",
            "/content/drive/MyDrive/Test folders/Trigonella Foenum-graecum (Fenugreek)/TF-S-012.jpg\n",
            "/content/drive/MyDrive/Test folders/Trigonella Foenum-graecum (Fenugreek)/TF-S-016.jpg\n",
            "/content/drive/MyDrive/Test folders/Trigonella Foenum-graecum (Fenugreek)/TF-S-022.jpg\n",
            "/content/drive/MyDrive/Test folders/Trigonella Foenum-graecum (Fenugreek)/TF-S-028.jpg\n",
            "/content/drive/MyDrive/Test folders/Trigonella Foenum-graecum (Fenugreek)/TF-S-024.jpg\n",
            "/content/drive/MyDrive/Test folders/Trigonella Foenum-graecum (Fenugreek)/TF-S-021.jpg\n",
            "/content/drive/MyDrive/Test folders/Trigonella Foenum-graecum (Fenugreek)/TF-S-027.jpg\n",
            "/content/drive/MyDrive/Test folders/Trigonella Foenum-graecum (Fenugreek)/TF-S-025.jpg\n",
            "/content/drive/MyDrive/Test folders/Trigonella Foenum-graecum (Fenugreek)/TF-S-030.jpg\n",
            "/content/drive/MyDrive/Test folders/Trigonella Foenum-graecum (Fenugreek)/TF-S-033.jpg\n",
            "/content/drive/MyDrive/Test folders/Trigonella Foenum-graecum (Fenugreek)/TF-S-034.jpg\n",
            "/content/drive/MyDrive/Test folders/Trigonella Foenum-graecum (Fenugreek)/TF-S-031.jpg\n",
            "/content/drive/MyDrive/Test folders/Trigonella Foenum-graecum (Fenugreek)/TF-S-032.jpg\n",
            "/content/drive/MyDrive/Test folders/Trigonella Foenum-graecum (Fenugreek)/TF-S-035.jpg\n",
            "/content/drive/MyDrive/Test folders/Trigonella Foenum-graecum (Fenugreek)/TF-S-015.jpg\n",
            "/content/drive/MyDrive/Test folders/Trigonella Foenum-graecum (Fenugreek)/TF-S-013.jpg\n",
            "/content/drive/MyDrive/Test folders/Trigonella Foenum-graecum (Fenugreek)/TF-S-019.jpg\n",
            "/content/drive/MyDrive/Test folders/Trigonella Foenum-graecum (Fenugreek)/TF-S-017.jpg\n",
            "/content/drive/MyDrive/Test folders/Trigonella Foenum-graecum (Fenugreek)/TF-S-018.jpg\n",
            "/content/drive/MyDrive/Test folders/Trigonella Foenum-graecum (Fenugreek)/TF-S-014.jpg\n",
            "/content/drive/MyDrive/Test folders/Trigonella Foenum-graecum (Fenugreek)/TF-S-029.jpg\n",
            "/content/drive/MyDrive/Test folders/Trigonella Foenum-graecum (Fenugreek)/TF-S-026.jpg\n",
            "/content/drive/MyDrive/Test folders/Trigonella Foenum-graecum (Fenugreek)/TF-S-036.jpg\n",
            "/content/drive/MyDrive/Test folders/Trigonella Foenum-graecum (Fenugreek)/TF-S-023.jpg\n",
            "/content/drive/MyDrive/Test folders/Trigonella Foenum-graecum (Fenugreek)/TF-S-020.jpg\n"
          ]
        }
      ],
      "source": [
        "import os\n",
        "\n",
        "\n",
        "print(\"Files in validation data directory:\")\n",
        "for root, dirs, files in os.walk(val_data_dir):\n",
        "    for file in files:\n",
        "        print(os.path.join(root, file))\n"
      ]
    },
    {
      "cell_type": "code",
      "execution_count": 50,
      "metadata": {
        "colab": {
          "base_uri": "https://localhost:8080/"
        },
        "id": "7uw2lEhKkWLO",
        "outputId": "42dff72a-b245-4875-e116-26d6873b2826"
      },
      "outputs": [
        {
          "name": "stdout",
          "output_type": "stream",
          "text": [
            "Found 1685 images belonging to 30 classes.\n",
            "Found 288 images belonging to 30 classes.\n"
          ]
        }
      ],
      "source": [
        "train_generator=train_datagen.flow_from_directory(train_data_dir,\n",
        "                                                  target_size=(img_height,img_width),\n",
        "                                                  batch_size=batch_size,\n",
        "                                                  class_mode='categorical')\n",
        "\n",
        "val_generator=val_datagen.flow_from_directory(val_data_dir,\n",
        "                                              target_size=(img_height,img_width),\n",
        "                                              batch_size=batch_size,\n",
        "                                              class_mode='categorical')\n"
      ]
    },
    {
      "cell_type": "code",
      "execution_count": 52,
      "metadata": {
        "colab": {
          "base_uri": "https://localhost:8080/"
        },
        "id": "cQTr5HHJlLzy",
        "outputId": "034f481d-5a63-4b69-9644-1a6f9d8e7857"
      },
      "outputs": [
        {
          "name": "stdout",
          "output_type": "stream",
          "text": [
            "1685\n"
          ]
        },
        {
          "data": {
            "text/plain": [
              "{'Alpinia Galanga (Rasna)',\n",
              " 'Amaranthus Viridis (Arive-Dantu)',\n",
              " 'Artocarpus Heterophyllus (Jackfruit)',\n",
              " 'Azadirachta Indica (Neem)',\n",
              " 'Basella Alba (Basale)',\n",
              " 'Brassica Juncea (Indian Mustard)',\n",
              " 'Carissa Carandas (Karanda)',\n",
              " 'Citrus Limon (Lemon)',\n",
              " 'Ficus Auriculata (Roxburgh fig)',\n",
              " 'Ficus Religiosa (Peepal Tree)',\n",
              " 'Hibiscus Rosa-sinensis',\n",
              " 'Jasminum (Jasmine)',\n",
              " 'Mangifera Indica (Mango)',\n",
              " 'Mentha (Mint)',\n",
              " 'Moringa Oleifera (Drumstick)',\n",
              " 'Muntingia Calabura (Jamaica Cherry-Gasagase)',\n",
              " 'Murraya Koenigii (Curry)',\n",
              " 'Nerium Oleander (Oleander)',\n",
              " 'Nyctanthes Arbor-tristis (Parijata)',\n",
              " 'Ocimum Tenuiflorum (Tulsi)',\n",
              " 'Piper Betle (Betel)',\n",
              " 'Plectranthus Amboinicus (Mexican Mint)',\n",
              " 'Pongamia Pinnata (Indian Beech)',\n",
              " 'Psidium Guajava (Guava)',\n",
              " 'Punica Granatum (Pomegranate)',\n",
              " 'Santalum Album (Sandalwood)',\n",
              " 'Syzygium Cumini (Jamun)',\n",
              " 'Syzygium Jambos (Rose Apple)',\n",
              " 'Tabernaemontana Divaricata (Crape Jasmine)',\n",
              " 'Trigonella Foenum-graecum (Fenugreek)'}"
            ]
          },
          "execution_count": 52,
          "metadata": {},
          "output_type": "execute_result"
        }
      ],
      "source": [
        "train_class_names = set()\n",
        "num_train_samples=0\n",
        "for i in train_generator.filenames:\n",
        "    train_class_names.add(i.split('/')[0])\n",
        "    num_train_samples+=1\n",
        "print(num_train_samples)\n",
        "train_class_names"
      ]
    },
    {
      "cell_type": "code",
      "execution_count": null,
      "metadata": {
        "id": "TtJ2ERbNvTnH"
      },
      "outputs": [],
      "source": []
    },
    {
      "cell_type": "code",
      "execution_count": 53,
      "metadata": {
        "colab": {
          "base_uri": "https://localhost:8080/"
        },
        "id": "JZmK9sYTto9r",
        "outputId": "b34124ef-5dcb-4d00-fa4d-c6daf9628002"
      },
      "outputs": [
        {
          "name": "stdout",
          "output_type": "stream",
          "text": [
            "288\n"
          ]
        },
        {
          "data": {
            "text/plain": [
              "{'Alpinia Galanga (Rasna)',\n",
              " 'Amaranthus Viridis (Arive-Dantu)',\n",
              " 'Artocarpus Heterophyllus (Jackfruit)',\n",
              " 'Azadirachta Indica (Neem)',\n",
              " 'Basella Alba (Basale)',\n",
              " 'Brassica Juncea (Indian Mustard)',\n",
              " 'Carissa Carandas (Karanda)',\n",
              " 'Citrus Limon (Lemon)',\n",
              " 'Ficus Auriculata (Roxburgh fig)',\n",
              " 'Ficus Religiosa (Peepal Tree)',\n",
              " 'Hibiscus Rosa-sinensis',\n",
              " 'Jasminum (Jasmine)',\n",
              " 'Mangifera Indica (Mango)',\n",
              " 'Mentha (Mint)',\n",
              " 'Moringa Oleifera (Drumstick)',\n",
              " 'Muntingia Calabura (Jamaica Cherry-Gasagase)',\n",
              " 'Murraya Koenigii (Curry)',\n",
              " 'Nerium Oleander (Oleander)',\n",
              " 'Nyctanthes Arbor-tristis (Parijata)',\n",
              " 'Ocimum Tenuiflorum (Tulsi)',\n",
              " 'Piper Betle (Betel)',\n",
              " 'Plectranthus Amboinicus (Mexican Mint)',\n",
              " 'Pongamia Pinnata (Indian Beech)',\n",
              " 'Psidium Guajava (Guava)',\n",
              " 'Punica Granatum (Pomegranate)',\n",
              " 'Santalum Album (Sandalwood)',\n",
              " 'Syzygium Cumini (Jamun)',\n",
              " 'Syzygium Jambos (Rose Apple)',\n",
              " 'Tabernaemontana Divaricata (Crape Jasmine)',\n",
              " 'Trigonella Foenum-graecum (Fenugreek)'}"
            ]
          },
          "execution_count": 53,
          "metadata": {},
          "output_type": "execute_result"
        }
      ],
      "source": [
        "val_class_names = set()\n",
        "num_val_samples=0\n",
        "for i in val_generator.filenames:\n",
        "    val_class_names.add(i.split('/')[0])\n",
        "    num_val_samples+=1\n",
        "print(num_val_samples)\n",
        "val_class_names"
      ]
    },
    {
      "cell_type": "code",
      "execution_count": 54,
      "metadata": {
        "colab": {
          "base_uri": "https://localhost:8080/"
        },
        "id": "m9rNasiggTs-",
        "outputId": "7c6cd9b4-c196-4830-aad9-0cde68d214b2"
      },
      "outputs": [
        {
          "name": "stdout",
          "output_type": "stream",
          "text": [
            "30\n",
            "Model: \"model_2\"\n",
            "__________________________________________________________________________________________________\n",
            " Layer (type)                Output Shape                 Param #   Connected to                  \n",
            "==================================================================================================\n",
            " input_2 (InputLayer)        [(None, 224, 224, 3)]        0         []                            \n",
            "                                                                                                  \n",
            " Conv1 (Conv2D)              (None, 112, 112, 32)         864       ['input_2[0][0]']             \n",
            "                                                                                                  \n",
            " bn_Conv1 (BatchNormalizati  (None, 112, 112, 32)         128       ['Conv1[0][0]']               \n",
            " on)                                                                                              \n",
            "                                                                                                  \n",
            " Conv1_relu (ReLU)           (None, 112, 112, 32)         0         ['bn_Conv1[0][0]']            \n",
            "                                                                                                  \n",
            " expanded_conv_depthwise (D  (None, 112, 112, 32)         288       ['Conv1_relu[0][0]']          \n",
            " epthwiseConv2D)                                                                                  \n",
            "                                                                                                  \n",
            " expanded_conv_depthwise_BN  (None, 112, 112, 32)         128       ['expanded_conv_depthwise[0][0\n",
            "  (BatchNormalization)                                              ]']                           \n",
            "                                                                                                  \n",
            " expanded_conv_depthwise_re  (None, 112, 112, 32)         0         ['expanded_conv_depthwise_BN[0\n",
            " lu (ReLU)                                                          ][0]']                        \n",
            "                                                                                                  \n",
            " expanded_conv_project (Con  (None, 112, 112, 16)         512       ['expanded_conv_depthwise_relu\n",
            " v2D)                                                               [0][0]']                      \n",
            "                                                                                                  \n",
            " expanded_conv_project_BN (  (None, 112, 112, 16)         64        ['expanded_conv_project[0][0]'\n",
            " BatchNormalization)                                                ]                             \n",
            "                                                                                                  \n",
            " block_1_expand (Conv2D)     (None, 112, 112, 96)         1536      ['expanded_conv_project_BN[0][\n",
            "                                                                    0]']                          \n",
            "                                                                                                  \n",
            " block_1_expand_BN (BatchNo  (None, 112, 112, 96)         384       ['block_1_expand[0][0]']      \n",
            " rmalization)                                                                                     \n",
            "                                                                                                  \n",
            " block_1_expand_relu (ReLU)  (None, 112, 112, 96)         0         ['block_1_expand_BN[0][0]']   \n",
            "                                                                                                  \n",
            " block_1_pad (ZeroPadding2D  (None, 113, 113, 96)         0         ['block_1_expand_relu[0][0]'] \n",
            " )                                                                                                \n",
            "                                                                                                  \n",
            " block_1_depthwise (Depthwi  (None, 56, 56, 96)           864       ['block_1_pad[0][0]']         \n",
            " seConv2D)                                                                                        \n",
            "                                                                                                  \n",
            " block_1_depthwise_BN (Batc  (None, 56, 56, 96)           384       ['block_1_depthwise[0][0]']   \n",
            " hNormalization)                                                                                  \n",
            "                                                                                                  \n",
            " block_1_depthwise_relu (Re  (None, 56, 56, 96)           0         ['block_1_depthwise_BN[0][0]']\n",
            " LU)                                                                                              \n",
            "                                                                                                  \n",
            " block_1_project (Conv2D)    (None, 56, 56, 24)           2304      ['block_1_depthwise_relu[0][0]\n",
            "                                                                    ']                            \n",
            "                                                                                                  \n",
            " block_1_project_BN (BatchN  (None, 56, 56, 24)           96        ['block_1_project[0][0]']     \n",
            " ormalization)                                                                                    \n",
            "                                                                                                  \n",
            " block_2_expand (Conv2D)     (None, 56, 56, 144)          3456      ['block_1_project_BN[0][0]']  \n",
            "                                                                                                  \n",
            " block_2_expand_BN (BatchNo  (None, 56, 56, 144)          576       ['block_2_expand[0][0]']      \n",
            " rmalization)                                                                                     \n",
            "                                                                                                  \n",
            " block_2_expand_relu (ReLU)  (None, 56, 56, 144)          0         ['block_2_expand_BN[0][0]']   \n",
            "                                                                                                  \n",
            " block_2_depthwise (Depthwi  (None, 56, 56, 144)          1296      ['block_2_expand_relu[0][0]'] \n",
            " seConv2D)                                                                                        \n",
            "                                                                                                  \n",
            " block_2_depthwise_BN (Batc  (None, 56, 56, 144)          576       ['block_2_depthwise[0][0]']   \n",
            " hNormalization)                                                                                  \n",
            "                                                                                                  \n",
            " block_2_depthwise_relu (Re  (None, 56, 56, 144)          0         ['block_2_depthwise_BN[0][0]']\n",
            " LU)                                                                                              \n",
            "                                                                                                  \n",
            " block_2_project (Conv2D)    (None, 56, 56, 24)           3456      ['block_2_depthwise_relu[0][0]\n",
            "                                                                    ']                            \n",
            "                                                                                                  \n",
            " block_2_project_BN (BatchN  (None, 56, 56, 24)           96        ['block_2_project[0][0]']     \n",
            " ormalization)                                                                                    \n",
            "                                                                                                  \n",
            " block_2_add (Add)           (None, 56, 56, 24)           0         ['block_1_project_BN[0][0]',  \n",
            "                                                                     'block_2_project_BN[0][0]']  \n",
            "                                                                                                  \n",
            " block_3_expand (Conv2D)     (None, 56, 56, 144)          3456      ['block_2_add[0][0]']         \n",
            "                                                                                                  \n",
            " block_3_expand_BN (BatchNo  (None, 56, 56, 144)          576       ['block_3_expand[0][0]']      \n",
            " rmalization)                                                                                     \n",
            "                                                                                                  \n",
            " block_3_expand_relu (ReLU)  (None, 56, 56, 144)          0         ['block_3_expand_BN[0][0]']   \n",
            "                                                                                                  \n",
            " block_3_pad (ZeroPadding2D  (None, 57, 57, 144)          0         ['block_3_expand_relu[0][0]'] \n",
            " )                                                                                                \n",
            "                                                                                                  \n",
            " block_3_depthwise (Depthwi  (None, 28, 28, 144)          1296      ['block_3_pad[0][0]']         \n",
            " seConv2D)                                                                                        \n",
            "                                                                                                  \n",
            " block_3_depthwise_BN (Batc  (None, 28, 28, 144)          576       ['block_3_depthwise[0][0]']   \n",
            " hNormalization)                                                                                  \n",
            "                                                                                                  \n",
            " block_3_depthwise_relu (Re  (None, 28, 28, 144)          0         ['block_3_depthwise_BN[0][0]']\n",
            " LU)                                                                                              \n",
            "                                                                                                  \n",
            " block_3_project (Conv2D)    (None, 28, 28, 32)           4608      ['block_3_depthwise_relu[0][0]\n",
            "                                                                    ']                            \n",
            "                                                                                                  \n",
            " block_3_project_BN (BatchN  (None, 28, 28, 32)           128       ['block_3_project[0][0]']     \n",
            " ormalization)                                                                                    \n",
            "                                                                                                  \n",
            " block_4_expand (Conv2D)     (None, 28, 28, 192)          6144      ['block_3_project_BN[0][0]']  \n",
            "                                                                                                  \n",
            " block_4_expand_BN (BatchNo  (None, 28, 28, 192)          768       ['block_4_expand[0][0]']      \n",
            " rmalization)                                                                                     \n",
            "                                                                                                  \n",
            " block_4_expand_relu (ReLU)  (None, 28, 28, 192)          0         ['block_4_expand_BN[0][0]']   \n",
            "                                                                                                  \n",
            " block_4_depthwise (Depthwi  (None, 28, 28, 192)          1728      ['block_4_expand_relu[0][0]'] \n",
            " seConv2D)                                                                                        \n",
            "                                                                                                  \n",
            " block_4_depthwise_BN (Batc  (None, 28, 28, 192)          768       ['block_4_depthwise[0][0]']   \n",
            " hNormalization)                                                                                  \n",
            "                                                                                                  \n",
            " block_4_depthwise_relu (Re  (None, 28, 28, 192)          0         ['block_4_depthwise_BN[0][0]']\n",
            " LU)                                                                                              \n",
            "                                                                                                  \n",
            " block_4_project (Conv2D)    (None, 28, 28, 32)           6144      ['block_4_depthwise_relu[0][0]\n",
            "                                                                    ']                            \n",
            "                                                                                                  \n",
            " block_4_project_BN (BatchN  (None, 28, 28, 32)           128       ['block_4_project[0][0]']     \n",
            " ormalization)                                                                                    \n",
            "                                                                                                  \n",
            " block_4_add (Add)           (None, 28, 28, 32)           0         ['block_3_project_BN[0][0]',  \n",
            "                                                                     'block_4_project_BN[0][0]']  \n",
            "                                                                                                  \n",
            " block_5_expand (Conv2D)     (None, 28, 28, 192)          6144      ['block_4_add[0][0]']         \n",
            "                                                                                                  \n",
            " block_5_expand_BN (BatchNo  (None, 28, 28, 192)          768       ['block_5_expand[0][0]']      \n",
            " rmalization)                                                                                     \n",
            "                                                                                                  \n",
            " block_5_expand_relu (ReLU)  (None, 28, 28, 192)          0         ['block_5_expand_BN[0][0]']   \n",
            "                                                                                                  \n",
            " block_5_depthwise (Depthwi  (None, 28, 28, 192)          1728      ['block_5_expand_relu[0][0]'] \n",
            " seConv2D)                                                                                        \n",
            "                                                                                                  \n",
            " block_5_depthwise_BN (Batc  (None, 28, 28, 192)          768       ['block_5_depthwise[0][0]']   \n",
            " hNormalization)                                                                                  \n",
            "                                                                                                  \n",
            " block_5_depthwise_relu (Re  (None, 28, 28, 192)          0         ['block_5_depthwise_BN[0][0]']\n",
            " LU)                                                                                              \n",
            "                                                                                                  \n",
            " block_5_project (Conv2D)    (None, 28, 28, 32)           6144      ['block_5_depthwise_relu[0][0]\n",
            "                                                                    ']                            \n",
            "                                                                                                  \n",
            " block_5_project_BN (BatchN  (None, 28, 28, 32)           128       ['block_5_project[0][0]']     \n",
            " ormalization)                                                                                    \n",
            "                                                                                                  \n",
            " block_5_add (Add)           (None, 28, 28, 32)           0         ['block_4_add[0][0]',         \n",
            "                                                                     'block_5_project_BN[0][0]']  \n",
            "                                                                                                  \n",
            " block_6_expand (Conv2D)     (None, 28, 28, 192)          6144      ['block_5_add[0][0]']         \n",
            "                                                                                                  \n",
            " block_6_expand_BN (BatchNo  (None, 28, 28, 192)          768       ['block_6_expand[0][0]']      \n",
            " rmalization)                                                                                     \n",
            "                                                                                                  \n",
            " block_6_expand_relu (ReLU)  (None, 28, 28, 192)          0         ['block_6_expand_BN[0][0]']   \n",
            "                                                                                                  \n",
            " block_6_pad (ZeroPadding2D  (None, 29, 29, 192)          0         ['block_6_expand_relu[0][0]'] \n",
            " )                                                                                                \n",
            "                                                                                                  \n",
            " block_6_depthwise (Depthwi  (None, 14, 14, 192)          1728      ['block_6_pad[0][0]']         \n",
            " seConv2D)                                                                                        \n",
            "                                                                                                  \n",
            " block_6_depthwise_BN (Batc  (None, 14, 14, 192)          768       ['block_6_depthwise[0][0]']   \n",
            " hNormalization)                                                                                  \n",
            "                                                                                                  \n",
            " block_6_depthwise_relu (Re  (None, 14, 14, 192)          0         ['block_6_depthwise_BN[0][0]']\n",
            " LU)                                                                                              \n",
            "                                                                                                  \n",
            " block_6_project (Conv2D)    (None, 14, 14, 64)           12288     ['block_6_depthwise_relu[0][0]\n",
            "                                                                    ']                            \n",
            "                                                                                                  \n",
            " block_6_project_BN (BatchN  (None, 14, 14, 64)           256       ['block_6_project[0][0]']     \n",
            " ormalization)                                                                                    \n",
            "                                                                                                  \n",
            " block_7_expand (Conv2D)     (None, 14, 14, 384)          24576     ['block_6_project_BN[0][0]']  \n",
            "                                                                                                  \n",
            " block_7_expand_BN (BatchNo  (None, 14, 14, 384)          1536      ['block_7_expand[0][0]']      \n",
            " rmalization)                                                                                     \n",
            "                                                                                                  \n",
            " block_7_expand_relu (ReLU)  (None, 14, 14, 384)          0         ['block_7_expand_BN[0][0]']   \n",
            "                                                                                                  \n",
            " block_7_depthwise (Depthwi  (None, 14, 14, 384)          3456      ['block_7_expand_relu[0][0]'] \n",
            " seConv2D)                                                                                        \n",
            "                                                                                                  \n",
            " block_7_depthwise_BN (Batc  (None, 14, 14, 384)          1536      ['block_7_depthwise[0][0]']   \n",
            " hNormalization)                                                                                  \n",
            "                                                                                                  \n",
            " block_7_depthwise_relu (Re  (None, 14, 14, 384)          0         ['block_7_depthwise_BN[0][0]']\n",
            " LU)                                                                                              \n",
            "                                                                                                  \n",
            " block_7_project (Conv2D)    (None, 14, 14, 64)           24576     ['block_7_depthwise_relu[0][0]\n",
            "                                                                    ']                            \n",
            "                                                                                                  \n",
            " block_7_project_BN (BatchN  (None, 14, 14, 64)           256       ['block_7_project[0][0]']     \n",
            " ormalization)                                                                                    \n",
            "                                                                                                  \n",
            " block_7_add (Add)           (None, 14, 14, 64)           0         ['block_6_project_BN[0][0]',  \n",
            "                                                                     'block_7_project_BN[0][0]']  \n",
            "                                                                                                  \n",
            " block_8_expand (Conv2D)     (None, 14, 14, 384)          24576     ['block_7_add[0][0]']         \n",
            "                                                                                                  \n",
            " block_8_expand_BN (BatchNo  (None, 14, 14, 384)          1536      ['block_8_expand[0][0]']      \n",
            " rmalization)                                                                                     \n",
            "                                                                                                  \n",
            " block_8_expand_relu (ReLU)  (None, 14, 14, 384)          0         ['block_8_expand_BN[0][0]']   \n",
            "                                                                                                  \n",
            " block_8_depthwise (Depthwi  (None, 14, 14, 384)          3456      ['block_8_expand_relu[0][0]'] \n",
            " seConv2D)                                                                                        \n",
            "                                                                                                  \n",
            " block_8_depthwise_BN (Batc  (None, 14, 14, 384)          1536      ['block_8_depthwise[0][0]']   \n",
            " hNormalization)                                                                                  \n",
            "                                                                                                  \n",
            " block_8_depthwise_relu (Re  (None, 14, 14, 384)          0         ['block_8_depthwise_BN[0][0]']\n",
            " LU)                                                                                              \n",
            "                                                                                                  \n",
            " block_8_project (Conv2D)    (None, 14, 14, 64)           24576     ['block_8_depthwise_relu[0][0]\n",
            "                                                                    ']                            \n",
            "                                                                                                  \n",
            " block_8_project_BN (BatchN  (None, 14, 14, 64)           256       ['block_8_project[0][0]']     \n",
            " ormalization)                                                                                    \n",
            "                                                                                                  \n",
            " block_8_add (Add)           (None, 14, 14, 64)           0         ['block_7_add[0][0]',         \n",
            "                                                                     'block_8_project_BN[0][0]']  \n",
            "                                                                                                  \n",
            " block_9_expand (Conv2D)     (None, 14, 14, 384)          24576     ['block_8_add[0][0]']         \n",
            "                                                                                                  \n",
            " block_9_expand_BN (BatchNo  (None, 14, 14, 384)          1536      ['block_9_expand[0][0]']      \n",
            " rmalization)                                                                                     \n",
            "                                                                                                  \n",
            " block_9_expand_relu (ReLU)  (None, 14, 14, 384)          0         ['block_9_expand_BN[0][0]']   \n",
            "                                                                                                  \n",
            " block_9_depthwise (Depthwi  (None, 14, 14, 384)          3456      ['block_9_expand_relu[0][0]'] \n",
            " seConv2D)                                                                                        \n",
            "                                                                                                  \n",
            " block_9_depthwise_BN (Batc  (None, 14, 14, 384)          1536      ['block_9_depthwise[0][0]']   \n",
            " hNormalization)                                                                                  \n",
            "                                                                                                  \n",
            " block_9_depthwise_relu (Re  (None, 14, 14, 384)          0         ['block_9_depthwise_BN[0][0]']\n",
            " LU)                                                                                              \n",
            "                                                                                                  \n",
            " block_9_project (Conv2D)    (None, 14, 14, 64)           24576     ['block_9_depthwise_relu[0][0]\n",
            "                                                                    ']                            \n",
            "                                                                                                  \n",
            " block_9_project_BN (BatchN  (None, 14, 14, 64)           256       ['block_9_project[0][0]']     \n",
            " ormalization)                                                                                    \n",
            "                                                                                                  \n",
            " block_9_add (Add)           (None, 14, 14, 64)           0         ['block_8_add[0][0]',         \n",
            "                                                                     'block_9_project_BN[0][0]']  \n",
            "                                                                                                  \n",
            " block_10_expand (Conv2D)    (None, 14, 14, 384)          24576     ['block_9_add[0][0]']         \n",
            "                                                                                                  \n",
            " block_10_expand_BN (BatchN  (None, 14, 14, 384)          1536      ['block_10_expand[0][0]']     \n",
            " ormalization)                                                                                    \n",
            "                                                                                                  \n",
            " block_10_expand_relu (ReLU  (None, 14, 14, 384)          0         ['block_10_expand_BN[0][0]']  \n",
            " )                                                                                                \n",
            "                                                                                                  \n",
            " block_10_depthwise (Depthw  (None, 14, 14, 384)          3456      ['block_10_expand_relu[0][0]']\n",
            " iseConv2D)                                                                                       \n",
            "                                                                                                  \n",
            " block_10_depthwise_BN (Bat  (None, 14, 14, 384)          1536      ['block_10_depthwise[0][0]']  \n",
            " chNormalization)                                                                                 \n",
            "                                                                                                  \n",
            " block_10_depthwise_relu (R  (None, 14, 14, 384)          0         ['block_10_depthwise_BN[0][0]'\n",
            " eLU)                                                               ]                             \n",
            "                                                                                                  \n",
            " block_10_project (Conv2D)   (None, 14, 14, 96)           36864     ['block_10_depthwise_relu[0][0\n",
            "                                                                    ]']                           \n",
            "                                                                                                  \n",
            " block_10_project_BN (Batch  (None, 14, 14, 96)           384       ['block_10_project[0][0]']    \n",
            " Normalization)                                                                                   \n",
            "                                                                                                  \n",
            " block_11_expand (Conv2D)    (None, 14, 14, 576)          55296     ['block_10_project_BN[0][0]'] \n",
            "                                                                                                  \n",
            " block_11_expand_BN (BatchN  (None, 14, 14, 576)          2304      ['block_11_expand[0][0]']     \n",
            " ormalization)                                                                                    \n",
            "                                                                                                  \n",
            " block_11_expand_relu (ReLU  (None, 14, 14, 576)          0         ['block_11_expand_BN[0][0]']  \n",
            " )                                                                                                \n",
            "                                                                                                  \n",
            " block_11_depthwise (Depthw  (None, 14, 14, 576)          5184      ['block_11_expand_relu[0][0]']\n",
            " iseConv2D)                                                                                       \n",
            "                                                                                                  \n",
            " block_11_depthwise_BN (Bat  (None, 14, 14, 576)          2304      ['block_11_depthwise[0][0]']  \n",
            " chNormalization)                                                                                 \n",
            "                                                                                                  \n",
            " block_11_depthwise_relu (R  (None, 14, 14, 576)          0         ['block_11_depthwise_BN[0][0]'\n",
            " eLU)                                                               ]                             \n",
            "                                                                                                  \n",
            " block_11_project (Conv2D)   (None, 14, 14, 96)           55296     ['block_11_depthwise_relu[0][0\n",
            "                                                                    ]']                           \n",
            "                                                                                                  \n",
            " block_11_project_BN (Batch  (None, 14, 14, 96)           384       ['block_11_project[0][0]']    \n",
            " Normalization)                                                                                   \n",
            "                                                                                                  \n",
            " block_11_add (Add)          (None, 14, 14, 96)           0         ['block_10_project_BN[0][0]', \n",
            "                                                                     'block_11_project_BN[0][0]'] \n",
            "                                                                                                  \n",
            " block_12_expand (Conv2D)    (None, 14, 14, 576)          55296     ['block_11_add[0][0]']        \n",
            "                                                                                                  \n",
            " block_12_expand_BN (BatchN  (None, 14, 14, 576)          2304      ['block_12_expand[0][0]']     \n",
            " ormalization)                                                                                    \n",
            "                                                                                                  \n",
            " block_12_expand_relu (ReLU  (None, 14, 14, 576)          0         ['block_12_expand_BN[0][0]']  \n",
            " )                                                                                                \n",
            "                                                                                                  \n",
            " block_12_depthwise (Depthw  (None, 14, 14, 576)          5184      ['block_12_expand_relu[0][0]']\n",
            " iseConv2D)                                                                                       \n",
            "                                                                                                  \n",
            " block_12_depthwise_BN (Bat  (None, 14, 14, 576)          2304      ['block_12_depthwise[0][0]']  \n",
            " chNormalization)                                                                                 \n",
            "                                                                                                  \n",
            " block_12_depthwise_relu (R  (None, 14, 14, 576)          0         ['block_12_depthwise_BN[0][0]'\n",
            " eLU)                                                               ]                             \n",
            "                                                                                                  \n",
            " block_12_project (Conv2D)   (None, 14, 14, 96)           55296     ['block_12_depthwise_relu[0][0\n",
            "                                                                    ]']                           \n",
            "                                                                                                  \n",
            " block_12_project_BN (Batch  (None, 14, 14, 96)           384       ['block_12_project[0][0]']    \n",
            " Normalization)                                                                                   \n",
            "                                                                                                  \n",
            " block_12_add (Add)          (None, 14, 14, 96)           0         ['block_11_add[0][0]',        \n",
            "                                                                     'block_12_project_BN[0][0]'] \n",
            "                                                                                                  \n",
            " block_13_expand (Conv2D)    (None, 14, 14, 576)          55296     ['block_12_add[0][0]']        \n",
            "                                                                                                  \n",
            " block_13_expand_BN (BatchN  (None, 14, 14, 576)          2304      ['block_13_expand[0][0]']     \n",
            " ormalization)                                                                                    \n",
            "                                                                                                  \n",
            " block_13_expand_relu (ReLU  (None, 14, 14, 576)          0         ['block_13_expand_BN[0][0]']  \n",
            " )                                                                                                \n",
            "                                                                                                  \n",
            " block_13_pad (ZeroPadding2  (None, 15, 15, 576)          0         ['block_13_expand_relu[0][0]']\n",
            " D)                                                                                               \n",
            "                                                                                                  \n",
            " block_13_depthwise (Depthw  (None, 7, 7, 576)            5184      ['block_13_pad[0][0]']        \n",
            " iseConv2D)                                                                                       \n",
            "                                                                                                  \n",
            " block_13_depthwise_BN (Bat  (None, 7, 7, 576)            2304      ['block_13_depthwise[0][0]']  \n",
            " chNormalization)                                                                                 \n",
            "                                                                                                  \n",
            " block_13_depthwise_relu (R  (None, 7, 7, 576)            0         ['block_13_depthwise_BN[0][0]'\n",
            " eLU)                                                               ]                             \n",
            "                                                                                                  \n",
            " block_13_project (Conv2D)   (None, 7, 7, 160)            92160     ['block_13_depthwise_relu[0][0\n",
            "                                                                    ]']                           \n",
            "                                                                                                  \n",
            " block_13_project_BN (Batch  (None, 7, 7, 160)            640       ['block_13_project[0][0]']    \n",
            " Normalization)                                                                                   \n",
            "                                                                                                  \n",
            " block_14_expand (Conv2D)    (None, 7, 7, 960)            153600    ['block_13_project_BN[0][0]'] \n",
            "                                                                                                  \n",
            " block_14_expand_BN (BatchN  (None, 7, 7, 960)            3840      ['block_14_expand[0][0]']     \n",
            " ormalization)                                                                                    \n",
            "                                                                                                  \n",
            " block_14_expand_relu (ReLU  (None, 7, 7, 960)            0         ['block_14_expand_BN[0][0]']  \n",
            " )                                                                                                \n",
            "                                                                                                  \n",
            " block_14_depthwise (Depthw  (None, 7, 7, 960)            8640      ['block_14_expand_relu[0][0]']\n",
            " iseConv2D)                                                                                       \n",
            "                                                                                                  \n",
            " block_14_depthwise_BN (Bat  (None, 7, 7, 960)            3840      ['block_14_depthwise[0][0]']  \n",
            " chNormalization)                                                                                 \n",
            "                                                                                                  \n",
            " block_14_depthwise_relu (R  (None, 7, 7, 960)            0         ['block_14_depthwise_BN[0][0]'\n",
            " eLU)                                                               ]                             \n",
            "                                                                                                  \n",
            " block_14_project (Conv2D)   (None, 7, 7, 160)            153600    ['block_14_depthwise_relu[0][0\n",
            "                                                                    ]']                           \n",
            "                                                                                                  \n",
            " block_14_project_BN (Batch  (None, 7, 7, 160)            640       ['block_14_project[0][0]']    \n",
            " Normalization)                                                                                   \n",
            "                                                                                                  \n",
            " block_14_add (Add)          (None, 7, 7, 160)            0         ['block_13_project_BN[0][0]', \n",
            "                                                                     'block_14_project_BN[0][0]'] \n",
            "                                                                                                  \n",
            " block_15_expand (Conv2D)    (None, 7, 7, 960)            153600    ['block_14_add[0][0]']        \n",
            "                                                                                                  \n",
            " block_15_expand_BN (BatchN  (None, 7, 7, 960)            3840      ['block_15_expand[0][0]']     \n",
            " ormalization)                                                                                    \n",
            "                                                                                                  \n",
            " block_15_expand_relu (ReLU  (None, 7, 7, 960)            0         ['block_15_expand_BN[0][0]']  \n",
            " )                                                                                                \n",
            "                                                                                                  \n",
            " block_15_depthwise (Depthw  (None, 7, 7, 960)            8640      ['block_15_expand_relu[0][0]']\n",
            " iseConv2D)                                                                                       \n",
            "                                                                                                  \n",
            " block_15_depthwise_BN (Bat  (None, 7, 7, 960)            3840      ['block_15_depthwise[0][0]']  \n",
            " chNormalization)                                                                                 \n",
            "                                                                                                  \n",
            " block_15_depthwise_relu (R  (None, 7, 7, 960)            0         ['block_15_depthwise_BN[0][0]'\n",
            " eLU)                                                               ]                             \n",
            "                                                                                                  \n",
            " block_15_project (Conv2D)   (None, 7, 7, 160)            153600    ['block_15_depthwise_relu[0][0\n",
            "                                                                    ]']                           \n",
            "                                                                                                  \n",
            " block_15_project_BN (Batch  (None, 7, 7, 160)            640       ['block_15_project[0][0]']    \n",
            " Normalization)                                                                                   \n",
            "                                                                                                  \n",
            " block_15_add (Add)          (None, 7, 7, 160)            0         ['block_14_add[0][0]',        \n",
            "                                                                     'block_15_project_BN[0][0]'] \n",
            "                                                                                                  \n",
            " block_16_expand (Conv2D)    (None, 7, 7, 960)            153600    ['block_15_add[0][0]']        \n",
            "                                                                                                  \n",
            " block_16_expand_BN (BatchN  (None, 7, 7, 960)            3840      ['block_16_expand[0][0]']     \n",
            " ormalization)                                                                                    \n",
            "                                                                                                  \n",
            " block_16_expand_relu (ReLU  (None, 7, 7, 960)            0         ['block_16_expand_BN[0][0]']  \n",
            " )                                                                                                \n",
            "                                                                                                  \n",
            " block_16_depthwise (Depthw  (None, 7, 7, 960)            8640      ['block_16_expand_relu[0][0]']\n",
            " iseConv2D)                                                                                       \n",
            "                                                                                                  \n",
            " block_16_depthwise_BN (Bat  (None, 7, 7, 960)            3840      ['block_16_depthwise[0][0]']  \n",
            " chNormalization)                                                                                 \n",
            "                                                                                                  \n",
            " block_16_depthwise_relu (R  (None, 7, 7, 960)            0         ['block_16_depthwise_BN[0][0]'\n",
            " eLU)                                                               ]                             \n",
            "                                                                                                  \n",
            " block_16_project (Conv2D)   (None, 7, 7, 320)            307200    ['block_16_depthwise_relu[0][0\n",
            "                                                                    ]']                           \n",
            "                                                                                                  \n",
            " block_16_project_BN (Batch  (None, 7, 7, 320)            1280      ['block_16_project[0][0]']    \n",
            " Normalization)                                                                                   \n",
            "                                                                                                  \n",
            " Conv_1 (Conv2D)             (None, 7, 7, 1280)           409600    ['block_16_project_BN[0][0]'] \n",
            "                                                                                                  \n",
            " Conv_1_bn (BatchNormalizat  (None, 7, 7, 1280)           5120      ['Conv_1[0][0]']              \n",
            " ion)                                                                                             \n",
            "                                                                                                  \n",
            " out_relu (ReLU)             (None, 7, 7, 1280)           0         ['Conv_1_bn[0][0]']           \n",
            "                                                                                                  \n",
            " global_average_pooling2d_2  (None, 1280)                 0         ['out_relu[0][0]']            \n",
            "  (GlobalAveragePooling2D)                                                                        \n",
            "                                                                                                  \n",
            " dense_8 (Dense)             (None, 1024)                 1311744   ['global_average_pooling2d_2[0\n",
            "                                                                    ][0]']                        \n",
            "                                                                                                  \n",
            " dense_9 (Dense)             (None, 1024)                 1049600   ['dense_8[0][0]']             \n",
            "                                                                                                  \n",
            " dense_10 (Dense)            (None, 512)                  524800    ['dense_9[0][0]']             \n",
            "                                                                                                  \n",
            " dense_11 (Dense)            (None, 30)                   15390     ['dense_10[0][0]']            \n",
            "                                                                                                  \n",
            "==================================================================================================\n",
            "Total params: 5159518 (19.68 MB)\n",
            "Trainable params: 2901534 (11.07 MB)\n",
            "Non-trainable params: 2257984 (8.61 MB)\n",
            "__________________________________________________________________________________________________\n"
          ]
        }
      ],
      "source": [
        "num_classes=len(train_generator.class_indices)\n",
        "print(num_classes)\n",
        "FC_head=add_layer_at_bottom(model,\n",
        "                            num_classes)\n",
        "\n",
        "main_model=Model(inputs=model.input,\n",
        "                 outputs=FC_head)\n",
        "\n",
        "main_model.summary()"
      ]
    },
    {
      "cell_type": "markdown",
      "metadata": {
        "id": "0KHjpDTA4phV"
      },
      "source": [
        "# Training"
      ]
    },
    {
      "cell_type": "code",
      "execution_count": 55,
      "metadata": {
        "id": "X4bO4y0Bl9cF"
      },
      "outputs": [],
      "source": [
        "from tensorflow.keras.optimizers import RMSprop\n",
        "from tensorflow.keras.callbacks import ModelCheckpoint, EarlyStopping"
      ]
    },
    {
      "cell_type": "code",
      "execution_count": 56,
      "metadata": {
        "colab": {
          "base_uri": "https://localhost:8080/"
        },
        "id": "4b5PH9iUuQBs",
        "outputId": "cede663a-ff38-407a-e80b-acf3ac080903",
        "scrolled": true
      },
      "outputs": [
        {
          "name": "stdout",
          "output_type": "stream",
          "text": [
            "Epoch 1/50\n",
            "52/52 [==============================] - ETA: 0s - loss: 2.0921 - accuracy: 0.4434\n",
            "Epoch 1: val_loss improved from inf to 1.31712, saving model to Model.h5\n"
          ]
        },
        {
          "name": "stderr",
          "output_type": "stream",
          "text": [
            "/usr/local/lib/python3.10/dist-packages/keras/src/engine/training.py:3103: UserWarning: You are saving your model as an HDF5 file via `model.save()`. This file format is considered legacy. We recommend using instead the native Keras format, e.g. `model.save('my_model.keras')`.\n",
            "  saving_api.save_model(\n"
          ]
        },
        {
          "name": "stdout",
          "output_type": "stream",
          "text": [
            "52/52 [==============================] - 98s 2s/step - loss: 2.0921 - accuracy: 0.4434 - val_loss: 1.3171 - val_accuracy: 0.5764\n",
            "Epoch 2/50\n",
            "52/52 [==============================] - ETA: 0s - loss: 0.8051 - accuracy: 0.7417\n",
            "Epoch 2: val_loss improved from 1.31712 to 0.89282, saving model to Model.h5\n",
            "52/52 [==============================] - 46s 877ms/step - loss: 0.8051 - accuracy: 0.7417 - val_loss: 0.8928 - val_accuracy: 0.7431\n",
            "Epoch 3/50\n",
            "52/52 [==============================] - ETA: 0s - loss: 0.5169 - accuracy: 0.8258\n",
            "Epoch 3: val_loss improved from 0.89282 to 0.56510, saving model to Model.h5\n",
            "52/52 [==============================] - 47s 908ms/step - loss: 0.5169 - accuracy: 0.8258 - val_loss: 0.5651 - val_accuracy: 0.8472\n",
            "Epoch 4/50\n",
            "52/52 [==============================] - ETA: 0s - loss: 0.4912 - accuracy: 0.8524\n",
            "Epoch 4: val_loss improved from 0.56510 to 0.23902, saving model to Model.h5\n",
            "52/52 [==============================] - 47s 906ms/step - loss: 0.4912 - accuracy: 0.8524 - val_loss: 0.2390 - val_accuracy: 0.9375\n",
            "Epoch 5/50\n",
            "52/52 [==============================] - ETA: 0s - loss: 0.3682 - accuracy: 0.8875\n",
            "Epoch 5: val_loss did not improve from 0.23902\n",
            "52/52 [==============================] - 46s 890ms/step - loss: 0.3682 - accuracy: 0.8875 - val_loss: 0.3005 - val_accuracy: 0.9271\n",
            "Epoch 6/50\n",
            "52/52 [==============================] - ETA: 0s - loss: 0.2907 - accuracy: 0.9123\n",
            "Epoch 6: val_loss did not improve from 0.23902\n",
            "Restoring model weights from the end of the best epoch: 4.\n",
            "52/52 [==============================] - 44s 854ms/step - loss: 0.2907 - accuracy: 0.9123 - val_loss: 0.3829 - val_accuracy: 0.8854\n",
            "Epoch 6: early stopping\n"
          ]
        }
      ],
      "source": [
        "checkpoint = ModelCheckpoint(\"Model.h5\",\n",
        "                             monitor='val_loss',\n",
        "                             mode='min',\n",
        "                             save_best_only=True,verbose=1)\n",
        "\n",
        "earlystop = EarlyStopping(monitor='val_loss',\n",
        "                          min_delta=0,\n",
        "                          patience=2,\n",
        "                          verbose=1,\n",
        "                          restore_best_weights=True)\n",
        "\n",
        "callbacks=[checkpoint,earlystop]\n",
        "\n",
        "main_model.compile(loss='categorical_crossentropy',\n",
        "                   optimizer=RMSprop(learning_rate=0.001),\n",
        "                   metrics=['accuracy'])\n",
        "\n",
        "epochs=50\n",
        "\n",
        "batch_size = 32\n",
        "\n",
        "history = main_model.fit(train_generator,\n",
        "                         steps_per_epoch=num_train_samples//batch_size,\n",
        "                         epochs=epochs,\n",
        "                         callbacks=callbacks,\n",
        "                         validation_data=val_generator,\n",
        "                         validation_steps=num_val_samples//batch_size)\n",
        "\n"
      ]
    },
    {
      "cell_type": "code",
      "execution_count": 57,
      "metadata": {
        "id": "XBjo_aqO4phW"
      },
      "outputs": [],
      "source": [
        "import matplotlib.pyplot as plt"
      ]
    },
    {
      "cell_type": "code",
      "execution_count": 58,
      "metadata": {
        "colab": {
          "base_uri": "https://localhost:8080/",
          "height": 600
        },
        "id": "X0FcX91c4phW",
        "outputId": "43f263a2-928e-494e-b910-d6a4501b6f51"
      },
      "outputs": [
        {
          "data": {
            "text/html": [
              "<div style=\"max-width:800px; border: 1px solid var(--colab-border-color);\"><style>\n",
              "      pre.function-repr-contents {\n",
              "        overflow-x: auto;\n",
              "        padding: 8px 12px;\n",
              "        max-height: 500px;\n",
              "      }\n",
              "\n",
              "      pre.function-repr-contents.function-repr-contents-collapsed {\n",
              "        cursor: pointer;\n",
              "        max-height: 100px;\n",
              "      }\n",
              "    </style>\n",
              "    <pre style=\"white-space: initial; background:\n",
              "         var(--colab-secondary-surface-color); padding: 8px 12px;\n",
              "         border-bottom: 1px solid var(--colab-border-color);\"><b>matplotlib.pyplot.show</b><br/>def show(*args, **kwargs)</pre><pre class=\"function-repr-contents function-repr-contents-collapsed\" style=\"\"><a class=\"filepath\" style=\"display:none\" href=\"#\">/usr/local/lib/python3.10/dist-packages/matplotlib/pyplot.py</a>Display all open figures.\n",
              "\n",
              "Parameters\n",
              "----------\n",
              "block : bool, optional\n",
              "    Whether to wait for all figures to be closed before returning.\n",
              "\n",
              "    If `True` block and run the GUI main loop until all figure windows\n",
              "    are closed.\n",
              "\n",
              "    If `False` ensure that all figure windows are displayed and return\n",
              "    immediately.  In this case, you are responsible for ensuring\n",
              "    that the event loop is running to have responsive figures.\n",
              "\n",
              "    Defaults to True in non-interactive mode and to False in interactive\n",
              "    mode (see `.pyplot.isinteractive`).\n",
              "\n",
              "See Also\n",
              "--------\n",
              "ion : Enable interactive mode, which shows / updates the figure after\n",
              "      every plotting command, so that calling ``show()`` is not necessary.\n",
              "ioff : Disable interactive mode.\n",
              "savefig : Save the figure to an image file instead of showing it on screen.\n",
              "\n",
              "Notes\n",
              "-----\n",
              "**Saving figures to file and showing a window at the same time**\n",
              "\n",
              "If you want an image file as well as a user interface window, use\n",
              "`.pyplot.savefig` before `.pyplot.show`. At the end of (a blocking)\n",
              "``show()`` the figure is closed and thus unregistered from pyplot. Calling\n",
              "`.pyplot.savefig` afterwards would save a new and thus empty figure. This\n",
              "limitation of command order does not apply if the show is non-blocking or\n",
              "if you keep a reference to the figure and use `.Figure.savefig`.\n",
              "\n",
              "**Auto-show in jupyter notebooks**\n",
              "\n",
              "The jupyter backends (activated via ``%matplotlib inline``,\n",
              "``%matplotlib notebook``, or ``%matplotlib widget``), call ``show()`` at\n",
              "the end of every cell by default. Thus, you usually don&#x27;t have to call it\n",
              "explicitly there.</pre>\n",
              "      <script>\n",
              "      if (google.colab.kernel.accessAllowed && google.colab.files && google.colab.files.view) {\n",
              "        for (const element of document.querySelectorAll('.filepath')) {\n",
              "          element.style.display = 'block'\n",
              "          element.onclick = (event) => {\n",
              "            event.preventDefault();\n",
              "            event.stopPropagation();\n",
              "            google.colab.files.view(element.textContent, 401);\n",
              "          };\n",
              "        }\n",
              "      }\n",
              "      for (const element of document.querySelectorAll('.function-repr-contents')) {\n",
              "        element.onclick = (event) => {\n",
              "          event.preventDefault();\n",
              "          event.stopPropagation();\n",
              "          element.classList.toggle('function-repr-contents-collapsed');\n",
              "        };\n",
              "      }\n",
              "      </script>\n",
              "      </div>"
            ],
            "text/plain": [
              "<function matplotlib.pyplot.show(close=None, block=None)>"
            ]
          },
          "execution_count": 58,
          "metadata": {},
          "output_type": "execute_result"
        },
        {
          "data": {
            "image/png": "[encoded data removed]",
            "text/plain": [
              "<Figure size 640x480 with 1 Axes>"
            ]
          },
          "metadata": {},
          "output_type": "display_data"
        }
      ],
      "source": [
        "#accuracy\n",
        "plt.plot(history.history['accuracy'], label= 'train acc')\n",
        "plt.plot(history.history['val_accuracy'], label= 'val acc')\n",
        "plt.legend()\n",
        "plt.show"
      ]
    },
    {
      "cell_type": "code",
      "execution_count": 59,
      "metadata": {
        "colab": {
          "base_uri": "https://localhost:8080/",
          "height": 600
        },
        "id": "_yr4ImyK4phW",
        "outputId": "1d4b62c0-ba25-48d3-d729-ead5652ef0cd"
      },
      "outputs": [
        {
          "data": {
            "text/html": [
              "<div style=\"max-width:800px; border: 1px solid var(--colab-border-color);\"><style>\n",
              "      pre.function-repr-contents {\n",
              "        overflow-x: auto;\n",
              "        padding: 8px 12px;\n",
              "        max-height: 500px;\n",
              "      }\n",
              "\n",
              "      pre.function-repr-contents.function-repr-contents-collapsed {\n",
              "        cursor: pointer;\n",
              "        max-height: 100px;\n",
              "      }\n",
              "    </style>\n",
              "    <pre style=\"white-space: initial; background:\n",
              "         var(--colab-secondary-surface-color); padding: 8px 12px;\n",
              "         border-bottom: 1px solid var(--colab-border-color);\"><b>matplotlib.pyplot.show</b><br/>def show(*args, **kwargs)</pre><pre class=\"function-repr-contents function-repr-contents-collapsed\" style=\"\"><a class=\"filepath\" style=\"display:none\" href=\"#\">/usr/local/lib/python3.10/dist-packages/matplotlib/pyplot.py</a>Display all open figures.\n",
              "\n",
              "Parameters\n",
              "----------\n",
              "block : bool, optional\n",
              "    Whether to wait for all figures to be closed before returning.\n",
              "\n",
              "    If `True` block and run the GUI main loop until all figure windows\n",
              "    are closed.\n",
              "\n",
              "    If `False` ensure that all figure windows are displayed and return\n",
              "    immediately.  In this case, you are responsible for ensuring\n",
              "    that the event loop is running to have responsive figures.\n",
              "\n",
              "    Defaults to True in non-interactive mode and to False in interactive\n",
              "    mode (see `.pyplot.isinteractive`).\n",
              "\n",
              "See Also\n",
              "--------\n",
              "ion : Enable interactive mode, which shows / updates the figure after\n",
              "      every plotting command, so that calling ``show()`` is not necessary.\n",
              "ioff : Disable interactive mode.\n",
              "savefig : Save the figure to an image file instead of showing it on screen.\n",
              "\n",
              "Notes\n",
              "-----\n",
              "**Saving figures to file and showing a window at the same time**\n",
              "\n",
              "If you want an image file as well as a user interface window, use\n",
              "`.pyplot.savefig` before `.pyplot.show`. At the end of (a blocking)\n",
              "``show()`` the figure is closed and thus unregistered from pyplot. Calling\n",
              "`.pyplot.savefig` afterwards would save a new and thus empty figure. This\n",
              "limitation of command order does not apply if the show is non-blocking or\n",
              "if you keep a reference to the figure and use `.Figure.savefig`.\n",
              "\n",
              "**Auto-show in jupyter notebooks**\n",
              "\n",
              "The jupyter backends (activated via ``%matplotlib inline``,\n",
              "``%matplotlib notebook``, or ``%matplotlib widget``), call ``show()`` at\n",
              "the end of every cell by default. Thus, you usually don&#x27;t have to call it\n",
              "explicitly there.</pre>\n",
              "      <script>\n",
              "      if (google.colab.kernel.accessAllowed && google.colab.files && google.colab.files.view) {\n",
              "        for (const element of document.querySelectorAll('.filepath')) {\n",
              "          element.style.display = 'block'\n",
              "          element.onclick = (event) => {\n",
              "            event.preventDefault();\n",
              "            event.stopPropagation();\n",
              "            google.colab.files.view(element.textContent, 401);\n",
              "          };\n",
              "        }\n",
              "      }\n",
              "      for (const element of document.querySelectorAll('.function-repr-contents')) {\n",
              "        element.onclick = (event) => {\n",
              "          event.preventDefault();\n",
              "          event.stopPropagation();\n",
              "          element.classList.toggle('function-repr-contents-collapsed');\n",
              "        };\n",
              "      }\n",
              "      </script>\n",
              "      </div>"
            ],
            "text/plain": [
              "<function matplotlib.pyplot.show(close=None, block=None)>"
            ]
          },
          "execution_count": 59,
          "metadata": {},
          "output_type": "execute_result"
        },
        {
          "data": {
            "image/png": "[encoded data removed]",
            "text/plain": [
              "<Figure size 640x480 with 1 Axes>"
            ]
          },
          "metadata": {},
          "output_type": "display_data"
        }
      ],
      "source": [
        "#loss\n",
        "plt.plot(history.history['loss'], label= 'train loss')\n",
        "plt.plot(history.history['val_loss'], label= 'val loss')\n",
        "plt.legend()\n",
        "plt.show"
      ]
    },
    {
      "cell_type": "markdown",
      "metadata": {
        "id": "9OjyfUh74phW"
      },
      "source": [
        "## Inference"
      ]
    },
    {
      "cell_type": "code",
      "execution_count": null,
      "metadata": {
        "id": "P5gafucT4phX"
      },
      "outputs": [],
      "source": []
    },
    {
      "cell_type": "code",
      "execution_count": 60,
      "metadata": {
        "colab": {
          "base_uri": "https://localhost:8080/"
        },
        "id": "oHtkZW9_4phX",
        "outputId": "7a83a406-5596-489b-d5d7-4f704384eae1"
      },
      "outputs": [
        {
          "name": "stdout",
          "output_type": "stream",
          "text": [
            "Requirement already satisfied: opencv-python in /usr/local/lib/python3.10/dist-packages (4.8.0.76)\n",
            "Requirement already satisfied: numpy>=1.21.2 in /usr/local/lib/python3.10/dist-packages (from opencv-python) (1.25.2)\n"
          ]
        }
      ],
      "source": [
        "pip install opencv-python"
      ]
    },
    {
      "cell_type": "code",
      "execution_count": 67,
      "metadata": {
        "colab": {
          "base_uri": "https://localhost:8080/",
          "height": 609
        },
        "id": "fx8s6Ki8x2Zf",
        "outputId": "b1b73466-0c58-45fd-89ef-99703a6f6091"
      },
      "outputs": [
        {
          "name": "stdout",
          "output_type": "stream",
          "text": [
            "1/1 [==============================] - 0s 46ms/step\n",
            "[[4.19549440e-04 4.17452102e-04 5.10785355e-07 3.97053384e-07\n",
            "  1.02010323e-04 2.35800471e-07 1.58571652e-06 3.22771825e-06\n",
            "  1.02576334e-04 1.98066500e-05 7.59212571e-06 4.56151565e-06\n",
            "  2.03468602e-07 2.73976525e-06 7.51740572e-06 8.42468495e-08\n",
            "  1.97956979e-05 5.94596895e-06 1.19758568e-07 6.70489499e-07\n",
            "  9.98669386e-01 5.02667945e-07 4.81776929e-08 6.16867101e-06\n",
            "  6.56025668e-06 7.34719094e-07 1.90918996e-07 2.81836219e-05\n",
            "  1.19019342e-06 1.70563930e-04]]\n"
          ]
        },
        {
          "data": {
            "application/vnd.google.colaboratory.intrinsic+json": {
              "type": "string"
            },
            "text/plain": [
              "'Piper Betle (Betel)'"
            ]
          },
          "execution_count": 67,
          "metadata": {},
          "output_type": "execute_result"
        },
        {
          "data": {
            "image/png": "[encoded data removed]",
            "text/plain": [
              "<Figure size 640x480 with 1 Axes>"
            ]
          },
          "metadata": {},
          "output_type": "display_data"
        }
      ],
      "source": [
        "import cv2\n",
        "out=['Alpinia Galanga (Rasna)',\n",
        " 'Amaranthus Viridis (Arive-Dantu)',\n",
        " 'Artocarpus Heterophyllus (Jackfruit)',\n",
        " 'Azadirachta Indica (Neem)',\n",
        " 'Basella Alba (Basale)',\n",
        " 'Brassica Juncea (Indian Mustard)',\n",
        " 'Carissa Carandas (Karanda)',\n",
        " 'Citrus Limon (Lemon)',\n",
        " 'Ficus Auriculata (Roxburgh fig)',\n",
        " 'Ficus Religiosa (Peepal Tree)',\n",
        " 'Hibiscus Rosa-sinensis',\n",
        " 'Jasminum (Jasmine)',\n",
        " 'Mangifera Indica (Mango)',\n",
        " 'Mentha (Mint)',\n",
        " 'Moringa Oleifera (Drumstick)',\n",
        " 'Muntingia Calabura (Jamaica Cherry-Gasagase)',\n",
        " 'Murraya Koenigii (Curry)',\n",
        " 'Nerium Oleander (Oleander)',\n",
        " 'Nyctanthes Arbor-tristis (Parijata)',\n",
        " 'Ocimum Tenuiflorum (Tulsi)',\n",
        " 'Piper Betle (Betel)',\n",
        " 'Plectranthus Amboinicus (Mexican Mint)',\n",
        " 'Pongamia Pinnata (Indian Beech)',\n",
        " 'Psidium Guajava (Guava)',\n",
        " 'Punica Granatum (Pomegranate)',\n",
        " 'Santalum Album (Sandalwood)',\n",
        " 'Syzygium Cumini (Jamun)',\n",
        " 'Syzygium Jambos (Rose Apple)',\n",
        " 'Tabernaemontana Divaricata (Crape Jasmine)',\n",
        " 'Trigonella Foenum-graecum (Fenugreek)'\n",
        " ]\n",
        "#Change the image path according to your comfort, try to use images which contains only single leaf\n",
        "img=cv2.imread(\"/content/betelleage.jpg\")\n",
        "img=cv2.cvtColor(img,cv2.COLOR_BGR2RGB)\n",
        "img=cv2.resize(img,(224,224))\n",
        "img=img/255.\n",
        "import matplotlib.pyplot as plt\n",
        "plt.imshow(img)\n",
        "img=img.reshape(1,224,224,3)\n",
        "import numpy as np\n",
        "res=main_model.predict(img)\n",
        "print(res)\n",
        "out[np.argmax(res)]"
      ]
    },
    {
      "cell_type": "code",
      "execution_count": 62,
      "metadata": {
        "colab": {
          "base_uri": "https://localhost:8080/"
        },
        "id": "koHND3F14phX",
        "outputId": "3828d04e-76c5-406c-8850-98c2505ac0f6"
      },
      "outputs": [
        {
          "name": "stdout",
          "output_type": "stream",
          "text": [
            "9/9 [==============================] - 4s 372ms/step\n"
          ]
        }
      ],
      "source": [
        "#predict\n",
        "from sklearn.metrics import accuracy_score, classification_report, confusion_matrix\n",
        "import numpy as np\n",
        "\n",
        "y_pred = model.predict(val_generator)\n"
      ]
    },
    {
      "cell_type": "code",
      "execution_count": 63,
      "metadata": {
        "id": "zL-xbnuS4phX"
      },
      "outputs": [],
      "source": [
        "test_y = val_generator.classes"
      ]
    },
    {
      "cell_type": "code",
      "execution_count": 64,
      "metadata": {
        "id": "XE1_cuvR4phY"
      },
      "outputs": [],
      "source": [
        "converter = tf.lite.TFLiteConverter.from_keras_model(model)"
      ]
    },
    {
      "cell_type": "code",
      "execution_count": 65,
      "metadata": {
        "id": "XVDh-cru4phY"
      },
      "outputs": [],
      "source": [
        "tflite_model = converter.convert()"
      ]
    },
    {
      "cell_type": "code",
      "execution_count": null,
      "metadata": {
        "id": "3O7KwY4g4phY"
      },
      "outputs": [],
      "source": [
        "tflite_model"
      ]
    },
    {
      "cell_type": "code",
      "execution_count": null,
      "metadata": {
        "id": "QLQZJvkS4phY"
      },
      "outputs": [],
      "source": [
        "with open('model.tflite', 'wb') as model_:\n",
        "    model_.write(tflite_model)"
      ]
    },
    {
      "cell_type": "code",
      "execution_count": null,
      "metadata": {
        "id": "ug72roUh4phk"
      },
      "outputs": [],
      "source": []
    }
  ],
  "metadata": {
    "accelerator": "GPU",
    "colab": {
      "gpuType": "T4",
      "provenance": []
    },
    "kernelspec": {
      "display_name": "Python 3",
      "name": "python3"
    },
    "language_info": {
      "codemirror_mode": {
        "name": "ipython",
        "version": 3
      },
      "file_extension": ".py",
      "mimetype": "text/x-python",
      "name": "python",
      "nbconvert_exporter": "python",
      "pygments_lexer": "ipython3",
      "version": "3.11.5"
    }
  },
  "nbformat": 4,
  "nbformat_minor": 0
}
